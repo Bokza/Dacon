{
  "nbformat": 4,
  "nbformat_minor": 0,
  "metadata": {
    "colab": {
      "provenance": []
    },
    "kernelspec": {
      "name": "python3",
      "display_name": "Python 3"
    },
    "language_info": {
      "name": "python"
    }
  },
  "cells": [
    {
      "cell_type": "code",
      "source": [
        "!pip install category-encoders"
      ],
      "metadata": {
        "colab": {
          "base_uri": "https://localhost:8080/"
        },
        "id": "UgMDMaCYqfvf",
        "outputId": "750b38e1-c21c-4be2-fd8a-dcc34178ce2e"
      },
      "execution_count": 3,
      "outputs": [
        {
          "output_type": "stream",
          "name": "stdout",
          "text": [
            "Collecting category-encoders\n",
            "  Downloading category_encoders-2.6.3-py2.py3-none-any.whl (81 kB)\n",
            "\u001b[?25l     \u001b[90m━━━━━━━━━━━━━━━━━━━━━━━━━━━━━━━━━━━━━━━━\u001b[0m \u001b[32m0.0/81.9 kB\u001b[0m \u001b[31m?\u001b[0m eta \u001b[36m-:--:--\u001b[0m\r\u001b[2K     \u001b[91m━━━━━━━━━━━━━━━━━━━━━━━━━━━━━━━━━━━\u001b[0m\u001b[90m╺\u001b[0m\u001b[90m━━━━\u001b[0m \u001b[32m71.7/81.9 kB\u001b[0m \u001b[31m1.9 MB/s\u001b[0m eta \u001b[36m0:00:01\u001b[0m\r\u001b[2K     \u001b[90m━━━━━━━━━━━━━━━━━━━━━━━━━━━━━━━━━━━━━━━━\u001b[0m \u001b[32m81.9/81.9 kB\u001b[0m \u001b[31m1.9 MB/s\u001b[0m eta \u001b[36m0:00:00\u001b[0m\n",
            "\u001b[?25hRequirement already satisfied: numpy>=1.14.0 in /usr/local/lib/python3.10/dist-packages (from category-encoders) (1.23.5)\n",
            "Requirement already satisfied: scikit-learn>=0.20.0 in /usr/local/lib/python3.10/dist-packages (from category-encoders) (1.2.2)\n",
            "Requirement already satisfied: scipy>=1.0.0 in /usr/local/lib/python3.10/dist-packages (from category-encoders) (1.11.4)\n",
            "Requirement already satisfied: statsmodels>=0.9.0 in /usr/local/lib/python3.10/dist-packages (from category-encoders) (0.14.0)\n",
            "Requirement already satisfied: pandas>=1.0.5 in /usr/local/lib/python3.10/dist-packages (from category-encoders) (1.5.3)\n",
            "Requirement already satisfied: patsy>=0.5.1 in /usr/local/lib/python3.10/dist-packages (from category-encoders) (0.5.4)\n",
            "Requirement already satisfied: python-dateutil>=2.8.1 in /usr/local/lib/python3.10/dist-packages (from pandas>=1.0.5->category-encoders) (2.8.2)\n",
            "Requirement already satisfied: pytz>=2020.1 in /usr/local/lib/python3.10/dist-packages (from pandas>=1.0.5->category-encoders) (2023.3.post1)\n",
            "Requirement already satisfied: six in /usr/local/lib/python3.10/dist-packages (from patsy>=0.5.1->category-encoders) (1.16.0)\n",
            "Requirement already satisfied: joblib>=1.1.1 in /usr/local/lib/python3.10/dist-packages (from scikit-learn>=0.20.0->category-encoders) (1.3.2)\n",
            "Requirement already satisfied: threadpoolctl>=2.0.0 in /usr/local/lib/python3.10/dist-packages (from scikit-learn>=0.20.0->category-encoders) (3.2.0)\n",
            "Requirement already satisfied: packaging>=21.3 in /usr/local/lib/python3.10/dist-packages (from statsmodels>=0.9.0->category-encoders) (23.2)\n",
            "Installing collected packages: category-encoders\n",
            "Successfully installed category-encoders-2.6.3\n"
          ]
        }
      ]
    },
    {
      "cell_type": "markdown",
      "source": [
        "# 1. Library\n",
        "패키지 import 및 warning 무시"
      ],
      "metadata": {
        "id": "SrfzUY-GvrGL"
      }
    },
    {
      "cell_type": "code",
      "source": [
        "import os\n",
        "import random\n",
        "import numpy as np\n",
        "import pandas as pd\n",
        "from category_encoders.target_encoder import TargetEncoder\n",
        "import torch\n",
        "import torch.nn as nn\n",
        "import torch.optim as optim\n",
        "from torch.utils.data import Dataset\n",
        "from torch.utils.data import DataLoader\n",
        "import warnings\n",
        "warnings.filterwarnings('ignore')"
      ],
      "metadata": {
        "id": "Du8uBaJMqTJs"
      },
      "execution_count": 4,
      "outputs": []
    },
    {
      "cell_type": "markdown",
      "source": [
        "# 2. Data\n",
        "seed 설정 및 데이터 로드"
      ],
      "metadata": {
        "id": "uu1AUPIrv7vd"
      }
    },
    {
      "cell_type": "code",
      "source": [
        "def seed_everything(seed):\n",
        "    random.seed(seed)\n",
        "    os.environ['PYTHONHASHSEED'] = str(seed)\n",
        "    np.random.seed(seed)\n",
        "seed_everything(42)\n",
        "\n",
        "# 데이터 불러오기\n",
        "train_org = pd.read_csv('train.csv')\n",
        "test_org = pd.read_csv('test.csv')\n",
        "test_org['target'] = np.NaN\n",
        "\n",
        "# 데이터 전처리\n",
        "train_df = train_org.copy()\n",
        "test_df = test_org.copy()"
      ],
      "metadata": {
        "id": "yN5RGSWwqXDy"
      },
      "execution_count": 5,
      "outputs": []
    },
    {
      "cell_type": "markdown",
      "source": [
        "#### 파생변수를 생성해봤지만 성능이 떨어져서 주석 처리\n",
        "시도한 파생변수 : \"월간 로그인 횟수\", \"월간 학습 일수 * 평균 시간\", \"월당 학습시간\""
      ],
      "metadata": {
        "id": "P_Au9iGNwBfa"
      }
    },
    {
      "cell_type": "code",
      "source": [
        "############################################################################################################################################\n",
        "################################################################파생변수 생성################################################################\n",
        "# train_df['login_frequency'] = train_df['subscription_duration'] / train_df['monthly_active_learning_days']                      # 월간 로그인 횟수\n",
        "# train_df['total_learning_time'] = train_df['average_time_per_learning_session'] * train_df['monthly_active_learning_days']      # 월간학습일수 * 평균 시간\n",
        "# train_df['average_courses_completed_per_month'] = train_df['total_completed_courses'] / train_df['subscription_duration']       # 월당 학습시간\n",
        "#\n",
        "# test_df['login_frequency'] = test_df['subscription_duration'] / test_df['monthly_active_learning_days']                         # 월간 로그인 횟수\n",
        "# test_df['total_learning_time'] = test_df['average_time_per_learning_session'] * test_df['monthly_active_learning_days']         # 월간학습일수 * 평균 시간\n",
        "# test_df['average_courses_completed_per_month'] = test_df['total_completed_courses'] / test_df['subscription_duration']          # 월당 학습시간\n",
        "\n",
        "# train_df.drop(columns=['subscription_duration', 'monthly_active_learning_days',\n",
        "#                        'average_time_per_learning_session', 'total_completed_courses'], inplace=True)\n",
        "# test_df.drop(columns=['subscription_duration', 'monthly_active_learning_days',\n",
        "#                        'average_time_per_learning_session', 'total_completed_courses'], inplace=True)\n",
        "############################################################################################################################################\n",
        "############################################################################################################################################"
      ],
      "metadata": {
        "id": "Y-ONqMv9qXgF"
      },
      "execution_count": 6,
      "outputs": []
    },
    {
      "cell_type": "markdown",
      "source": [
        "# 3. Preprocess\n",
        "Target Encoding 및 결측치 처리"
      ],
      "metadata": {
        "id": "UALWy8gowLeY"
      }
    },
    {
      "cell_type": "code",
      "source": [
        "categorical_features = list(train_df.dtypes[train_df.dtypes == \"object\"].index)\n",
        "# Target Encoding\n",
        "for i in categorical_features:\n",
        "    le = TargetEncoder(cols=[i])\n",
        "    train_df[i] = le.fit_transform(train_df[i], train_df['target'])\n",
        "    test_df[i] = le.transform(test_df[i], test_df['target'])\n",
        "\n",
        "# 결측치 처리\n",
        "train_df.fillna(0, inplace=True)\n",
        "test_df.fillna(0, inplace=True)"
      ],
      "metadata": {
        "id": "3m91rnseqX7-"
      },
      "execution_count": 7,
      "outputs": []
    },
    {
      "cell_type": "markdown",
      "source": [
        "데이터 셋 및 데이터 로더 생성"
      ],
      "metadata": {
        "id": "ESKgoEcawRIN"
      }
    },
    {
      "cell_type": "code",
      "source": [
        "# 데이터셋 및 데이터로더 생성\n",
        "class CustomDataset(Dataset):\n",
        "    def __init__(self, dataframe, target_column='target', transform=None):\n",
        "        self.dataframe = dataframe\n",
        "        self.target_column = target_column\n",
        "        self.transform = transform\n",
        "\n",
        "    def __len__(self):\n",
        "        return len(self.dataframe)\n",
        "\n",
        "    def __getitem__(self, idx):\n",
        "        features = torch.tensor(self.dataframe.iloc[idx].drop(columns=[self.target_column]).values, dtype=torch.float32)\n",
        "        target = torch.tensor(self.dataframe.iloc[idx][self.target_column], dtype=torch.float32)\n",
        "\n",
        "        if self.transform:\n",
        "            features = self.transform(features)\n",
        "\n",
        "        return {'features': features, 'target': target}\n",
        "\n",
        "train_dataset = CustomDataset(train_df)\n",
        "test_dataset = CustomDataset(test_df)\n",
        "train_loader = DataLoader(train_dataset, batch_size=10000, num_workers = 4, shuffle=True, pin_memory = True)\n",
        "test_loader = DataLoader(test_dataset, batch_size=10000, num_workers = 4, shuffle=False, pin_memory = True)"
      ],
      "metadata": {
        "id": "OPe31fz7qYEN"
      },
      "execution_count": 8,
      "outputs": []
    },
    {
      "cell_type": "markdown",
      "source": [
        "# 4. Modeling\n",
        "#### 모델 구성\n",
        "선형 레이어 5개, 출력 레이어 2개로 구성, sigmoid 함수를 사용해서 결괏값은 0~1 사이의 값을 가짐.\n",
        "손실 함수는 일반적으로 쓰이는 이진 분류 손실 함수인 BCEWithLoss() 써보았지만, 성능이 떨어짐\n",
        "따라서 MSELoss()를 채택하게 되었는데, 선택해도 되는 이유는 출력 텐서의 형식이 proba 처럼 나오기\n",
        "때문에 써도 될 거 같다고 생각함.\n"
      ],
      "metadata": {
        "id": "u_qCfyUUwVJi"
      }
    },
    {
      "cell_type": "code",
      "source": [
        "class CustomModel(nn.Module):\n",
        "    def __init__(self, input_size):\n",
        "        super(CustomModel, self).__init__()\n",
        "\n",
        "        self.fc1 = nn.Linear(input_size, 16)\n",
        "        self.relu1 = nn.ReLU()\n",
        "        self.fc2 = nn.Linear(16, 32)\n",
        "        self.relu2 = nn.ReLU()\n",
        "        self.fc3 = nn.Linear(32, 64)\n",
        "        self.relu3 = nn.ReLU()\n",
        "        self.fc4 = nn.Linear(64, 128)\n",
        "        self.relu4 = nn.ReLU()\n",
        "        self.fc5 = nn.Linear(128, 256)\n",
        "        self.relu5 = nn.ReLU()\n",
        "        self.output_layer1 = nn.Linear(256, 64)\n",
        "        self.output_layer2 = nn.Linear(64, 1)\n",
        "\n",
        "    def forward(self, x):\n",
        "       # x = self.batch_norm(x)\n",
        "        x = self.relu1(self.fc1(x))\n",
        "        x = self.relu2(self.fc2(x))\n",
        "        x = self.relu3(self.fc3(x))\n",
        "        x = self.relu4(self.fc4(x))\n",
        "        x = self.relu5(self.fc5(x))\n",
        "        x = self.output_layer1(x)\n",
        "        x = self.output_layer2(x)\n",
        "        x = torch.sigmoid(x)  # Sigmoid 활성화 함수 추가\n",
        "        return x\n",
        "\n",
        "input_size = len(train_df.columns)  # 입력 피처의 개수\n",
        "model = CustomModel(input_size)\n",
        "# criterion = nn.BCEWithLogitsLoss() # 일반적으로 쓰이는 이진 분류 손실 함수 : BCEWithLoss()\n",
        "criterion = nn.MSELoss()\n",
        "optimizer = optim.AdamW(model.parameters(), lr=0.0005)"
      ],
      "metadata": {
        "id": "MLWwsVUdqYJP"
      },
      "execution_count": 9,
      "outputs": []
    },
    {
      "cell_type": "markdown",
      "source": [
        "#### 모델 생성\n",
        "epoch은 가장 잘 나온 100으로 설정.\n",
        "본 컴퓨터에 GPU가 없어서 CPU 사용, 한 번 반복할 때 마다 반복 횟수와 Loss 출력\n"
      ],
      "metadata": {
        "id": "SmXY5zbxxMmh"
      }
    },
    {
      "cell_type": "code",
      "source": [
        "if __name__ == '__main__':\n",
        "    # 학습\n",
        "    num_epochs = 100\n",
        "    print_interval = 10\n",
        "    for epoch in range(num_epochs):\n",
        "        model.train()\n",
        "        train_loss = 0.0\n",
        "        for batch in train_loader:\n",
        "            features, target = batch['features'], batch['target']\n",
        "\n",
        "            optimizer.zero_grad()\n",
        "            output = model(features)\n",
        "            loss = criterion(output, target.view(-1, 1).float())  # MSELoss에 대한 타입 호환성 수정\n",
        "            loss.backward()\n",
        "            optimizer.step()\n",
        "\n",
        "            train_loss += loss.item()\n",
        "\n",
        "        train_loss /= len(train_loader)\n",
        "        print(f'Epoch {epoch+1}/{num_epochs}, Train Loss: {train_loss}')\n",
        "\n",
        "    # 예측\n",
        "    model.eval()\n",
        "    all_predictions = []\n",
        "    with torch.no_grad():\n",
        "        for batch in test_loader:\n",
        "            features, _ = batch['features'], batch['target']  # test 데이터셋에는 target이 필요하지 않음\n",
        "            output = model(features)\n",
        "            binary_output = torch.round(output)\n",
        "            all_predictions.append(binary_output.cpu().numpy())"
      ],
      "metadata": {
        "colab": {
          "base_uri": "https://localhost:8080/"
        },
        "id": "JObxn3J2qYNq",
        "outputId": "224227c0-6c3f-4c20-b70c-00f81524ad6b"
      },
      "execution_count": 10,
      "outputs": [
        {
          "output_type": "stream",
          "name": "stdout",
          "text": [
            "Epoch 1/100, Train Loss: 0.2595924437046051\n",
            "Epoch 2/100, Train Loss: 0.24651943147182465\n",
            "Epoch 3/100, Train Loss: 0.23791223764419556\n",
            "Epoch 4/100, Train Loss: 0.23323020339012146\n",
            "Epoch 5/100, Train Loss: 0.23186364769935608\n",
            "Epoch 6/100, Train Loss: 0.23281729221343994\n",
            "Epoch 7/100, Train Loss: 0.23444369435310364\n",
            "Epoch 8/100, Train Loss: 0.2354014664888382\n",
            "Epoch 9/100, Train Loss: 0.23540471494197845\n",
            "Epoch 10/100, Train Loss: 0.23472966253757477\n",
            "Epoch 11/100, Train Loss: 0.23376765847206116\n",
            "Epoch 12/100, Train Loss: 0.23283787071704865\n",
            "Epoch 13/100, Train Loss: 0.23213432729244232\n",
            "Epoch 14/100, Train Loss: 0.23172666132450104\n",
            "Epoch 15/100, Train Loss: 0.2315901815891266\n",
            "Epoch 16/100, Train Loss: 0.2316453605890274\n",
            "Epoch 17/100, Train Loss: 0.23179389536380768\n",
            "Epoch 18/100, Train Loss: 0.23195186257362366\n",
            "Epoch 19/100, Train Loss: 0.2320619374513626\n",
            "Epoch 20/100, Train Loss: 0.23209311068058014\n",
            "Epoch 21/100, Train Loss: 0.2320394068956375\n",
            "Epoch 22/100, Train Loss: 0.23191103339195251\n",
            "Epoch 23/100, Train Loss: 0.2317272424697876\n",
            "Epoch 24/100, Train Loss: 0.2315162569284439\n",
            "Epoch 25/100, Train Loss: 0.2313155084848404\n",
            "Epoch 26/100, Train Loss: 0.23115883767604828\n",
            "Epoch 27/100, Train Loss: 0.23106689751148224\n",
            "Epoch 28/100, Train Loss: 0.23104819655418396\n",
            "Epoch 29/100, Train Loss: 0.23108552396297455\n",
            "Epoch 30/100, Train Loss: 0.23113226890563965\n",
            "Epoch 31/100, Train Loss: 0.23113691806793213\n",
            "Epoch 32/100, Train Loss: 0.23107920587062836\n",
            "Epoch 33/100, Train Loss: 0.23097075521945953\n",
            "Epoch 34/100, Train Loss: 0.23084203898906708\n",
            "Epoch 35/100, Train Loss: 0.2307228296995163\n",
            "Epoch 36/100, Train Loss: 0.23063264787197113\n",
            "Epoch 37/100, Train Loss: 0.23057492077350616\n",
            "Epoch 38/100, Train Loss: 0.2305401861667633\n",
            "Epoch 39/100, Train Loss: 0.2305099070072174\n",
            "Epoch 40/100, Train Loss: 0.23046629130840302\n",
            "Epoch 41/100, Train Loss: 0.23040102422237396\n",
            "Epoch 42/100, Train Loss: 0.23031693696975708\n",
            "Epoch 43/100, Train Loss: 0.23022592067718506\n",
            "Epoch 44/100, Train Loss: 0.23014387488365173\n",
            "Epoch 45/100, Train Loss: 0.23007997870445251\n",
            "Epoch 46/100, Train Loss: 0.23002749681472778\n",
            "Epoch 47/100, Train Loss: 0.22996780276298523\n",
            "Epoch 48/100, Train Loss: 0.22988876700401306\n",
            "Epoch 49/100, Train Loss: 0.22979389131069183\n",
            "Epoch 50/100, Train Loss: 0.22970087826251984\n",
            "Epoch 51/100, Train Loss: 0.2296234369277954\n",
            "Epoch 52/100, Train Loss: 0.22955988347530365\n",
            "Epoch 53/100, Train Loss: 0.22949570417404175\n",
            "Epoch 54/100, Train Loss: 0.22941581904888153\n",
            "Epoch 55/100, Train Loss: 0.22932450473308563\n",
            "Epoch 56/100, Train Loss: 0.22923535108566284\n",
            "Epoch 57/100, Train Loss: 0.22916005551815033\n",
            "Epoch 58/100, Train Loss: 0.22909040749073029\n",
            "Epoch 59/100, Train Loss: 0.22900807857513428\n",
            "Epoch 60/100, Train Loss: 0.22891205549240112\n",
            "Epoch 61/100, Train Loss: 0.22881989181041718\n",
            "Epoch 62/100, Train Loss: 0.22873440384864807\n",
            "Epoch 63/100, Train Loss: 0.22864003479480743\n",
            "Epoch 64/100, Train Loss: 0.2285298854112625\n",
            "Epoch 65/100, Train Loss: 0.22841909527778625\n",
            "Epoch 66/100, Train Loss: 0.22831480205059052\n",
            "Epoch 67/100, Train Loss: 0.2281983643770218\n",
            "Epoch 68/100, Train Loss: 0.22806291282176971\n",
            "Epoch 69/100, Train Loss: 0.22792646288871765\n",
            "Epoch 70/100, Train Loss: 0.22778664529323578\n",
            "Epoch 71/100, Train Loss: 0.2276298850774765\n",
            "Epoch 72/100, Train Loss: 0.22747206687927246\n",
            "Epoch 73/100, Train Loss: 0.22730237245559692\n",
            "Epoch 74/100, Train Loss: 0.22711113095283508\n",
            "Epoch 75/100, Train Loss: 0.2269190400838852\n",
            "Epoch 76/100, Train Loss: 0.22671206295490265\n",
            "Epoch 77/100, Train Loss: 0.22648847103118896\n",
            "Epoch 78/100, Train Loss: 0.2262439727783203\n",
            "Epoch 79/100, Train Loss: 0.22596703469753265\n",
            "Epoch 80/100, Train Loss: 0.2256866693496704\n",
            "Epoch 81/100, Train Loss: 0.22538915276527405\n",
            "Epoch 82/100, Train Loss: 0.22508060932159424\n",
            "Epoch 83/100, Train Loss: 0.22474417090415955\n",
            "Epoch 84/100, Train Loss: 0.22438134253025055\n",
            "Epoch 85/100, Train Loss: 0.22398193180561066\n",
            "Epoch 86/100, Train Loss: 0.22353096306324005\n",
            "Epoch 87/100, Train Loss: 0.22304199635982513\n",
            "Epoch 88/100, Train Loss: 0.22256802022457123\n",
            "Epoch 89/100, Train Loss: 0.22220024466514587\n",
            "Epoch 90/100, Train Loss: 0.22179453074932098\n",
            "Epoch 91/100, Train Loss: 0.22103682160377502\n",
            "Epoch 92/100, Train Loss: 0.22059999406337738\n",
            "Epoch 93/100, Train Loss: 0.22030024230480194\n",
            "Epoch 94/100, Train Loss: 0.21957549452781677\n",
            "Epoch 95/100, Train Loss: 0.21895170211791992\n",
            "Epoch 96/100, Train Loss: 0.21863630414009094\n",
            "Epoch 97/100, Train Loss: 0.21806542575359344\n",
            "Epoch 98/100, Train Loss: 0.21719753742218018\n",
            "Epoch 99/100, Train Loss: 0.216623455286026\n",
            "Epoch 100/100, Train Loss: 0.21626655757427216\n"
          ]
        }
      ]
    },
    {
      "cell_type": "markdown",
      "source": [
        "# 5. Result"
      ],
      "metadata": {
        "id": "6eFrGi5-xrY2"
      }
    },
    {
      "cell_type": "code",
      "source": [
        "    # test 데이터셋에 대한 예측 결과를 하나의 배열로 통합\n",
        "    all_predictions = np.concatenate(all_predictions)\n",
        "\n",
        "    # 결과를 DataFrame으로 만들어 CSV 파일로 저장\n",
        "    submission = pd.read_csv('sample_submission.csv')\n",
        "    submission['target'] = all_predictions.astype(int)  # 정수형으로 변환하여 저장\n",
        "    # submission.to_csv(f'submission_torchMLP_1204.csv', index=False)\n",
        "    print(submission)"
      ],
      "metadata": {
        "colab": {
          "base_uri": "https://localhost:8080/"
        },
        "id": "xKJgzhZyqYRR",
        "outputId": "0bb604f1-3b11-4968-ab76-9a9653a55a1b"
      },
      "execution_count": 11,
      "outputs": [
        {
          "output_type": "stream",
          "name": "stdout",
          "text": [
            "       user_id  target\n",
            "0     0001d6e9       1\n",
            "1     0002c77d       1\n",
            "2     0002df5b       0\n",
            "3     000b6068       1\n",
            "4     00184a0c       0\n",
            "...        ...     ...\n",
            "9995  ffe2eba5       1\n",
            "9996  ffe710f1       1\n",
            "9997  ffeccdef       1\n",
            "9998  fff3fcea       1\n",
            "9999  fff4b04b       0\n",
            "\n",
            "[10000 rows x 2 columns]\n"
          ]
        }
      ]
    }
  ]
}