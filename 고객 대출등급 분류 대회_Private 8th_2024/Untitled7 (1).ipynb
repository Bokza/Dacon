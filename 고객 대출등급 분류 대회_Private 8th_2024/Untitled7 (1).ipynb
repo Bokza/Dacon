{
 "nbformat": 4,
 "nbformat_minor": 0,
 "metadata": {
  "colab": {
   "provenance": []
  },
  "kernelspec": {
   "name": "python3",
   "language": "python",
   "display_name": "Python 3 (ipykernel)"
  },
  "language_info": {
   "name": "python"
  }
 },
 "cells": [
  {
   "cell_type": "markdown",
   "source": [
    "# 라이브러리"
   ],
   "metadata": {
    "id": "RxrgbtFPW2ds"
   }
  },
  {
   "cell_type": "code",
   "source": [
    "import numpy as np\n",
    "from scipy import stats\n",
    "import pandas as pd\n",
    "from sklearn.preprocessing import MinMaxScaler\n",
    "from sklearn.preprocessing import LabelEncoder\n",
    "from sklearn.model_selection import StratifiedKFold, train_test_split\n",
    "from sklearn.metrics import f1_score\n",
    "from sklearn.ensemble import RandomForestClassifier, RandomForestRegressor, GradientBoostingClassifier, ExtraTreesClassifier\n",
    "from sklearn.ensemble import VotingClassifier\n",
    "import matplotlib.pyplot as plt\n",
    "import re\n",
    "from imblearn.over_sampling import SMOTE, ADASYN\n",
    "from imblearn.combine import SMOTETomek\n",
    "from imblearn.under_sampling import TomekLinks\n",
    "from scipy.stats import ttest_ind\n",
    "from scipy.stats import chi2_contingency\n",
    "from itertools import combinations"
   ],
   "metadata": {
    "id": "E81xpcpe2tIe",
    "ExecuteTime": {
     "end_time": "2024-03-08T04:06:38.170038700Z",
     "start_time": "2024-03-08T04:06:37.975520900Z"
    }
   },
   "execution_count": 52,
   "outputs": []
  },
  {
   "cell_type": "markdown",
   "source": [
    "# 데이터 로드"
   ],
   "metadata": {
    "id": "4tzK9xrnW_NW"
   }
  },
  {
   "cell_type": "code",
   "source": [
    "train = pd.read_csv('train.csv')\n",
    "test = pd.read_csv('test.csv')"
   ],
   "metadata": {
    "id": "r5frsvy-2s_6",
    "ExecuteTime": {
     "end_time": "2024-03-08T04:06:38.345240500Z",
     "start_time": "2024-03-08T04:06:38.003300800Z"
    }
   },
   "execution_count": 53,
   "outputs": []
  },
  {
   "cell_type": "markdown",
   "source": [
    "# 파생변수 생성"
   ],
   "metadata": {
    "id": "dN2TVskMXBAK"
   }
  },
  {
   "cell_type": "code",
   "source": [
    "train['대출기간'] = train['대출기간'].apply(lambda x: int(re.search(r'\\d+', x).group()))\n",
    "test['대출기간'] = test['대출기간'].apply(lambda x: int(re.search(r'\\d+', x).group()))\n",
    "\n",
    "train['월상환액_대출금액_비율'] = (train['총상환원금'] + train['총상환이자']) / (train['대출금액'] / (train['대출기간']))\n",
    "test['월상환액_대출금액_비율'] = (test['총상환원금'] + test['총상환이자']) / (test['대출금액'] / (test['대출기간']))\n",
    "\n",
    "train['상환_대비_대출금_비율'] = train['총상환원금'] / train['대출금액']\n",
    "test['상환_대비_대출금_비율'] = test['총상환원금'] / test['대출금액']\n",
    "\n",
    "train['대출_상환_비율'] = (train['총상환원금'] + train['총상환이자']) / train['대출금액']\n",
    "test['대출_상환_비율'] = (test['총상환원금'] + test['총상환이자']) / test['대출금액']"
   ],
   "metadata": {
    "id": "lI7xFNCsVxph",
    "ExecuteTime": {
     "end_time": "2024-03-08T04:06:38.594498700Z",
     "start_time": "2024-03-08T04:06:38.345240500Z"
    }
   },
   "execution_count": 54,
   "outputs": []
  },
  {
   "cell_type": "markdown",
   "source": [
    "# 통계 검정"
   ],
   "metadata": {
    "id": "a0CFnLWAXIIs"
   }
  },
  {
   "cell_type": "code",
   "execution_count": 55,
   "outputs": [
    {
     "data": {
      "text/plain": "                ID      대출금액  대출기간       근로기간    주택소유상태       연간소득  \\\n0      TRAIN_00000  12480000    36    6 years      RENT   72000000   \n1      TRAIN_00001  14400000    60  10+ years  MORTGAGE  130800000   \n2      TRAIN_00002  12000000    36    5 years  MORTGAGE   96000000   \n3      TRAIN_00003  14400000    36    8 years  MORTGAGE  132000000   \n4      TRAIN_00004  18000000    60    Unknown      RENT   71736000   \n...            ...       ...   ...        ...       ...        ...   \n96289  TRAIN_96289  14400000    36  10+ years  MORTGAGE  210000000   \n96290  TRAIN_96290  28800000    60  10+ years  MORTGAGE  132000000   \n96291  TRAIN_96291  14400000    36     1 year  MORTGAGE   84000000   \n96292  TRAIN_96292  15600000    36    5 years  MORTGAGE   66330000   \n96293  TRAIN_96293   8640000    36  10+ years      RENT   50400000   \n\n       부채_대비_소득_비율  총계좌수   대출목적  최근_2년간_연체_횟수    총상환원금     총상환이자  총연체금액  \\\n0            18.90    15  부채 통합             0        0       0.0    0.0   \n1            22.33    21  주택 개선             0   373572  234060.0    0.0   \n2             8.60    14  부채 통합             0   928644  151944.0    0.0   \n3            15.09    15  부채 통합             0   325824  153108.0    0.0   \n4            25.39    19  주요 구매             0   228540  148956.0    0.0   \n...            ...   ...    ...           ...      ...       ...    ...   \n96289         9.33    33  신용 카드             0   974580  492168.0    0.0   \n96290         5.16    25  주택 개선             0   583728  855084.0    0.0   \n96291        11.24    22  신용 카드             0  1489128  241236.0    0.0   \n96292        17.30    21  부채 통합             2  1378368  818076.0    0.0   \n96293        11.80    14  신용 카드             0   596148  274956.0    0.0   \n\n       연체계좌수 대출등급  월상환액_대출금액_비율  상환_대비_대출금_비율  대출_상환_비율  \n0        0.0    C      0.000000      0.000000  0.000000  \n1        0.0    B      2.531800      0.025943  0.042197  \n2        0.0    A      3.241764      0.077387  0.090049  \n3        0.0    C      1.197330      0.022627  0.033259  \n4        0.0    B      1.258320      0.012697  0.020972  \n...      ...  ...           ...           ...       ...  \n96289    0.0    C      3.666870      0.067679  0.101858  \n96290    0.0    E      2.997525      0.020268  0.049959  \n96291    0.0    A      4.325910      0.103412  0.120164  \n96292    0.0    D      5.068717      0.088357  0.140798  \n96293    0.0    C      3.629600      0.068999  0.100822  \n\n[96294 rows x 18 columns]",
      "text/html": "<div>\n<style scoped>\n    .dataframe tbody tr th:only-of-type {\n        vertical-align: middle;\n    }\n\n    .dataframe tbody tr th {\n        vertical-align: top;\n    }\n\n    .dataframe thead th {\n        text-align: right;\n    }\n</style>\n<table border=\"1\" class=\"dataframe\">\n  <thead>\n    <tr style=\"text-align: right;\">\n      <th></th>\n      <th>ID</th>\n      <th>대출금액</th>\n      <th>대출기간</th>\n      <th>근로기간</th>\n      <th>주택소유상태</th>\n      <th>연간소득</th>\n      <th>부채_대비_소득_비율</th>\n      <th>총계좌수</th>\n      <th>대출목적</th>\n      <th>최근_2년간_연체_횟수</th>\n      <th>총상환원금</th>\n      <th>총상환이자</th>\n      <th>총연체금액</th>\n      <th>연체계좌수</th>\n      <th>대출등급</th>\n      <th>월상환액_대출금액_비율</th>\n      <th>상환_대비_대출금_비율</th>\n      <th>대출_상환_비율</th>\n    </tr>\n  </thead>\n  <tbody>\n    <tr>\n      <th>0</th>\n      <td>TRAIN_00000</td>\n      <td>12480000</td>\n      <td>36</td>\n      <td>6 years</td>\n      <td>RENT</td>\n      <td>72000000</td>\n      <td>18.90</td>\n      <td>15</td>\n      <td>부채 통합</td>\n      <td>0</td>\n      <td>0</td>\n      <td>0.0</td>\n      <td>0.0</td>\n      <td>0.0</td>\n      <td>C</td>\n      <td>0.000000</td>\n      <td>0.000000</td>\n      <td>0.000000</td>\n    </tr>\n    <tr>\n      <th>1</th>\n      <td>TRAIN_00001</td>\n      <td>14400000</td>\n      <td>60</td>\n      <td>10+ years</td>\n      <td>MORTGAGE</td>\n      <td>130800000</td>\n      <td>22.33</td>\n      <td>21</td>\n      <td>주택 개선</td>\n      <td>0</td>\n      <td>373572</td>\n      <td>234060.0</td>\n      <td>0.0</td>\n      <td>0.0</td>\n      <td>B</td>\n      <td>2.531800</td>\n      <td>0.025943</td>\n      <td>0.042197</td>\n    </tr>\n    <tr>\n      <th>2</th>\n      <td>TRAIN_00002</td>\n      <td>12000000</td>\n      <td>36</td>\n      <td>5 years</td>\n      <td>MORTGAGE</td>\n      <td>96000000</td>\n      <td>8.60</td>\n      <td>14</td>\n      <td>부채 통합</td>\n      <td>0</td>\n      <td>928644</td>\n      <td>151944.0</td>\n      <td>0.0</td>\n      <td>0.0</td>\n      <td>A</td>\n      <td>3.241764</td>\n      <td>0.077387</td>\n      <td>0.090049</td>\n    </tr>\n    <tr>\n      <th>3</th>\n      <td>TRAIN_00003</td>\n      <td>14400000</td>\n      <td>36</td>\n      <td>8 years</td>\n      <td>MORTGAGE</td>\n      <td>132000000</td>\n      <td>15.09</td>\n      <td>15</td>\n      <td>부채 통합</td>\n      <td>0</td>\n      <td>325824</td>\n      <td>153108.0</td>\n      <td>0.0</td>\n      <td>0.0</td>\n      <td>C</td>\n      <td>1.197330</td>\n      <td>0.022627</td>\n      <td>0.033259</td>\n    </tr>\n    <tr>\n      <th>4</th>\n      <td>TRAIN_00004</td>\n      <td>18000000</td>\n      <td>60</td>\n      <td>Unknown</td>\n      <td>RENT</td>\n      <td>71736000</td>\n      <td>25.39</td>\n      <td>19</td>\n      <td>주요 구매</td>\n      <td>0</td>\n      <td>228540</td>\n      <td>148956.0</td>\n      <td>0.0</td>\n      <td>0.0</td>\n      <td>B</td>\n      <td>1.258320</td>\n      <td>0.012697</td>\n      <td>0.020972</td>\n    </tr>\n    <tr>\n      <th>...</th>\n      <td>...</td>\n      <td>...</td>\n      <td>...</td>\n      <td>...</td>\n      <td>...</td>\n      <td>...</td>\n      <td>...</td>\n      <td>...</td>\n      <td>...</td>\n      <td>...</td>\n      <td>...</td>\n      <td>...</td>\n      <td>...</td>\n      <td>...</td>\n      <td>...</td>\n      <td>...</td>\n      <td>...</td>\n      <td>...</td>\n    </tr>\n    <tr>\n      <th>96289</th>\n      <td>TRAIN_96289</td>\n      <td>14400000</td>\n      <td>36</td>\n      <td>10+ years</td>\n      <td>MORTGAGE</td>\n      <td>210000000</td>\n      <td>9.33</td>\n      <td>33</td>\n      <td>신용 카드</td>\n      <td>0</td>\n      <td>974580</td>\n      <td>492168.0</td>\n      <td>0.0</td>\n      <td>0.0</td>\n      <td>C</td>\n      <td>3.666870</td>\n      <td>0.067679</td>\n      <td>0.101858</td>\n    </tr>\n    <tr>\n      <th>96290</th>\n      <td>TRAIN_96290</td>\n      <td>28800000</td>\n      <td>60</td>\n      <td>10+ years</td>\n      <td>MORTGAGE</td>\n      <td>132000000</td>\n      <td>5.16</td>\n      <td>25</td>\n      <td>주택 개선</td>\n      <td>0</td>\n      <td>583728</td>\n      <td>855084.0</td>\n      <td>0.0</td>\n      <td>0.0</td>\n      <td>E</td>\n      <td>2.997525</td>\n      <td>0.020268</td>\n      <td>0.049959</td>\n    </tr>\n    <tr>\n      <th>96291</th>\n      <td>TRAIN_96291</td>\n      <td>14400000</td>\n      <td>36</td>\n      <td>1 year</td>\n      <td>MORTGAGE</td>\n      <td>84000000</td>\n      <td>11.24</td>\n      <td>22</td>\n      <td>신용 카드</td>\n      <td>0</td>\n      <td>1489128</td>\n      <td>241236.0</td>\n      <td>0.0</td>\n      <td>0.0</td>\n      <td>A</td>\n      <td>4.325910</td>\n      <td>0.103412</td>\n      <td>0.120164</td>\n    </tr>\n    <tr>\n      <th>96292</th>\n      <td>TRAIN_96292</td>\n      <td>15600000</td>\n      <td>36</td>\n      <td>5 years</td>\n      <td>MORTGAGE</td>\n      <td>66330000</td>\n      <td>17.30</td>\n      <td>21</td>\n      <td>부채 통합</td>\n      <td>2</td>\n      <td>1378368</td>\n      <td>818076.0</td>\n      <td>0.0</td>\n      <td>0.0</td>\n      <td>D</td>\n      <td>5.068717</td>\n      <td>0.088357</td>\n      <td>0.140798</td>\n    </tr>\n    <tr>\n      <th>96293</th>\n      <td>TRAIN_96293</td>\n      <td>8640000</td>\n      <td>36</td>\n      <td>10+ years</td>\n      <td>RENT</td>\n      <td>50400000</td>\n      <td>11.80</td>\n      <td>14</td>\n      <td>신용 카드</td>\n      <td>0</td>\n      <td>596148</td>\n      <td>274956.0</td>\n      <td>0.0</td>\n      <td>0.0</td>\n      <td>C</td>\n      <td>3.629600</td>\n      <td>0.068999</td>\n      <td>0.100822</td>\n    </tr>\n  </tbody>\n</table>\n<p>96294 rows × 18 columns</p>\n</div>"
     },
     "execution_count": 55,
     "metadata": {},
     "output_type": "execute_result"
    }
   ],
   "source": [
    "df = train\n",
    "df"
   ],
   "metadata": {
    "collapsed": false,
    "ExecuteTime": {
     "end_time": "2024-03-08T04:06:38.646438700Z",
     "start_time": "2024-03-08T04:06:38.596499300Z"
    }
   }
  },
  {
   "cell_type": "code",
   "execution_count": 56,
   "outputs": [
    {
     "data": {
      "text/plain": "F_onewayResult(statistic=76983.42602684714, pvalue=0.0)"
     },
     "execution_count": 56,
     "metadata": {},
     "output_type": "execute_result"
    }
   ],
   "source": [
    "import pandas as pd\n",
    "from scipy.stats import f_oneway\n",
    "\n",
    "# ANOVA 수행\n",
    "result = f_oneway(df['대출금액'], df['부채_대비_소득_비율'], df['총계좌수'], df['연간소득'])\n",
    "result"
   ],
   "metadata": {
    "collapsed": false,
    "ExecuteTime": {
     "end_time": "2024-03-08T04:06:38.658989Z",
     "start_time": "2024-03-08T04:06:38.627582100Z"
    }
   }
  },
  {
   "cell_type": "code",
   "execution_count": 57,
   "outputs": [
    {
     "name": "stdout",
     "output_type": "stream",
     "text": [
      "       Multiple Comparison of Means - Tukey HSD, FWER=0.05        \n",
      "==================================================================\n",
      "group1 group2   meandiff   p-adj     lower        upper     reject\n",
      "------------------------------------------------------------------\n",
      "     A      B  -232951.875    0.0 -262175.2748 -203728.4752   True\n",
      "     A      C -314858.5479    0.0   -344313.39 -285403.7059   True\n",
      "     A      D -337248.9722    0.0 -372146.1367 -302351.8078   True\n",
      "     A      E -359515.5636    0.0 -401598.4906 -317432.6366   True\n",
      "     A      F  -399648.596    0.0 -471574.4984 -327722.6936   True\n",
      "     A      G -479947.2829    0.0 -628596.8489 -331297.7169   True\n",
      "     B      C  -81906.6729    0.0 -107243.4409   -56569.905   True\n",
      "     B      D -104297.0973    0.0 -135795.9254  -72798.2691   True\n",
      "     B      E -126563.6886    0.0 -165874.4611  -87252.9161   True\n",
      "     B      F  -166696.721    0.0 -237036.6068  -96356.8353   True\n",
      "     B      G -246995.4079    0.0 -394884.0741  -99106.7418   True\n",
      "     C      D  -22390.4243 0.3636  -54104.0933    9323.2447  False\n",
      "     C      E  -44657.0156  0.015  -84140.1444   -5173.8868   True\n",
      "     C      F  -84790.0481 0.0071 -155226.4034  -14353.6927   True\n",
      "     C      G  -165088.735 0.0174  -313023.309  -17154.1609   True\n",
      "     D      E  -22266.5913 0.7435  -65960.3188   21427.1362  False\n",
      "     D      F  -62399.6238 0.1505 -135279.6932   10480.4457  False\n",
      "     D      G -142698.3107 0.0713 -291811.9001    6415.2788  False\n",
      "     E      F  -40133.0324 0.7173 -116714.1344   36448.0695  False\n",
      "     E      G -120431.7193 0.2193 -271388.7438   30525.3051  False\n",
      "     F      G  -80298.6869 0.7669 -242133.1267    81535.753  False\n",
      "------------------------------------------------------------------\n"
     ]
    }
   ],
   "source": [
    "from statsmodels.stats.multicomp import pairwise_tukeyhsd\n",
    "\n",
    "# 사후검정 수행\n",
    "posthoc = pairwise_tukeyhsd(df['총상환원금'], df['대출등급'])\n",
    "print(posthoc)\n"
   ],
   "metadata": {
    "collapsed": false,
    "ExecuteTime": {
     "end_time": "2024-03-08T04:06:40.186410Z",
     "start_time": "2024-03-08T04:06:38.686969800Z"
    }
   }
  },
  {
   "cell_type": "code",
   "execution_count": 58,
   "outputs": [
    {
     "name": "stderr",
     "output_type": "stream",
     "text": [
      "C:\\Users\\j_be_\\.conda\\envs\\Dacon\\lib\\site-packages\\IPython\\core\\pylabtools.py:152: UserWarning: Glyph 45824 (\\N{HANGUL SYLLABLE DAE}) missing from current font.\n",
      "  fig.canvas.print_figure(bytes_io, **kw)\n",
      "C:\\Users\\j_be_\\.conda\\envs\\Dacon\\lib\\site-packages\\IPython\\core\\pylabtools.py:152: UserWarning: Glyph 52636 (\\N{HANGUL SYLLABLE CUL}) missing from current font.\n",
      "  fig.canvas.print_figure(bytes_io, **kw)\n",
      "C:\\Users\\j_be_\\.conda\\envs\\Dacon\\lib\\site-packages\\IPython\\core\\pylabtools.py:152: UserWarning: Glyph 46321 (\\N{HANGUL SYLLABLE DEUNG}) missing from current font.\n",
      "  fig.canvas.print_figure(bytes_io, **kw)\n",
      "C:\\Users\\j_be_\\.conda\\envs\\Dacon\\lib\\site-packages\\IPython\\core\\pylabtools.py:152: UserWarning: Glyph 44553 (\\N{HANGUL SYLLABLE GEUB}) missing from current font.\n",
      "  fig.canvas.print_figure(bytes_io, **kw)\n",
      "C:\\Users\\j_be_\\.conda\\envs\\Dacon\\lib\\site-packages\\IPython\\core\\pylabtools.py:152: UserWarning: Glyph 52509 (\\N{HANGUL SYLLABLE CONG}) missing from current font.\n",
      "  fig.canvas.print_figure(bytes_io, **kw)\n",
      "C:\\Users\\j_be_\\.conda\\envs\\Dacon\\lib\\site-packages\\IPython\\core\\pylabtools.py:152: UserWarning: Glyph 49345 (\\N{HANGUL SYLLABLE SANG}) missing from current font.\n",
      "  fig.canvas.print_figure(bytes_io, **kw)\n",
      "C:\\Users\\j_be_\\.conda\\envs\\Dacon\\lib\\site-packages\\IPython\\core\\pylabtools.py:152: UserWarning: Glyph 54872 (\\N{HANGUL SYLLABLE HWAN}) missing from current font.\n",
      "  fig.canvas.print_figure(bytes_io, **kw)\n",
      "C:\\Users\\j_be_\\.conda\\envs\\Dacon\\lib\\site-packages\\IPython\\core\\pylabtools.py:152: UserWarning: Glyph 50896 (\\N{HANGUL SYLLABLE WEON}) missing from current font.\n",
      "  fig.canvas.print_figure(bytes_io, **kw)\n",
      "C:\\Users\\j_be_\\.conda\\envs\\Dacon\\lib\\site-packages\\IPython\\core\\pylabtools.py:152: UserWarning: Glyph 44552 (\\N{HANGUL SYLLABLE GEUM}) missing from current font.\n",
      "  fig.canvas.print_figure(bytes_io, **kw)\n"
     ]
    },
    {
     "data": {
      "text/plain": "<Figure size 640x480 with 1 Axes>",
      "image/png": "[encoded data removed]"
     },
     "metadata": {},
     "output_type": "display_data"
    }
   ],
   "source": [
    "import seaborn as sns\n",
    "import matplotlib.pyplot as plt\n",
    "\n",
    "# 대출등급에 따른 대출금액의 분포 시각화\n",
    "sns.boxplot(x='대출등급', y='총상환원금', data=df)\n",
    "plt.show()"
   ],
   "metadata": {
    "collapsed": false,
    "ExecuteTime": {
     "end_time": "2024-03-08T04:06:40.495155300Z",
     "start_time": "2024-03-08T04:06:40.183366500Z"
    }
   }
  },
  {
   "cell_type": "code",
   "execution_count": 59,
   "outputs": [
    {
     "name": "stdout",
     "output_type": "stream",
     "text": [
      "[대출등급, 대출금액] ANOVA\n",
      "F_onewayResult(statistic=454.32713684334936, pvalue=0.0)\n",
      "[대출등급, 대출기간] ANOVA\n",
      "F_onewayResult(statistic=3979.5610674031786, pvalue=0.0)\n",
      "[대출등급, 연간소득] ANOVA\n",
      "F_onewayResult(statistic=149.0598282981811, pvalue=4.816027990915243e-189)\n",
      "[대출등급, 부채_대비_소득_비율] ANOVA\n",
      "F_onewayResult(statistic=52.436842586360484, pvalue=7.71758001370164e-65)\n",
      "[대출등급, 총계좌수] ANOVA\n",
      "F_onewayResult(statistic=67.41751230341222, pvalue=4.552665738933169e-84)\n",
      "[대출등급, 최근_2년간_연체_횟수] ANOVA\n",
      "F_onewayResult(statistic=66.8557345236643, pvalue=2.3985329094228896e-83)\n",
      "[대출등급, 총상환원금] ANOVA\n",
      "F_onewayResult(statistic=228.14375690297206, pvalue=1.610696070744567e-290)\n",
      "[대출등급, 총상환이자] ANOVA\n",
      "F_onewayResult(statistic=4205.829962669025, pvalue=0.0)\n",
      "[대출등급, 총연체금액] ANOVA\n",
      "F_onewayResult(statistic=16.773943224244498, pvalue=1.887031584881659e-19)\n",
      "[대출등급, 연체계좌수] ANOVA\n",
      "F_onewayResult(statistic=16.603108586261282, pvalue=3.0861763890808586e-19)\n",
      "[대출등급, 월상환액_대출금액_비율] ANOVA\n",
      "F_onewayResult(statistic=377.0259000288076, pvalue=0.0)\n",
      "[대출등급, 상환_대비_대출금_비율] ANOVA\n",
      "F_onewayResult(statistic=448.540598298807, pvalue=0.0)\n",
      "[대출등급, 대출_상환_비율] ANOVA\n",
      "F_onewayResult(statistic=14.449889576950282, pvalue=1.4933628379984963e-16)\n"
     ]
    }
   ],
   "source": [
    "# ANOVA(일원배치분산분석) 수행\n",
    "cols =  df.select_dtypes(exclude='object').columns.tolist()\n",
    "\n",
    "for col in cols:\n",
    "    print(f'[대출등급, {col}] ANOVA')\n",
    "    result = f_oneway(df[f'{col}'][df['대출등급'] == 'A'],\n",
    "                      df[f'{col}'][df['대출등급'] == 'B'],\n",
    "                      df[f'{col}'][df['대출등급'] == 'C'],\n",
    "                      df[f'{col}'][df['대출등급'] == 'D'],\n",
    "                      df[f'{col}'][df['대출등급'] == 'E'],\n",
    "                      df[f'{col}'][df['대출등급'] == 'F'],\n",
    "                      df[f'{col}'][df['대출등급'] == 'G'])\n",
    "\n",
    "    print(result)"
   ],
   "metadata": {
    "collapsed": false,
    "ExecuteTime": {
     "end_time": "2024-03-08T04:06:41.230313200Z",
     "start_time": "2024-03-08T04:06:40.499101400Z"
    }
   }
  },
  {
   "cell_type": "code",
   "execution_count": 59,
   "outputs": [],
   "source": [],
   "metadata": {
    "collapsed": false,
    "ExecuteTime": {
     "end_time": "2024-03-08T04:06:41.246311600Z",
     "start_time": "2024-03-08T04:06:41.232310600Z"
    }
   }
  },
  {
   "cell_type": "code",
   "execution_count": 60,
   "outputs": [
    {
     "name": "stdout",
     "output_type": "stream",
     "text": [
      "[대출등급, ID]\n",
      "Chi2 Statistic: 577763.9999999998\n",
      "P-value: 0.49752584642206804\n",
      "[대출등급, 근로기간]\n",
      "Chi2 Statistic: 187.56633181905977\n",
      "P-value: 7.714129711631081e-09\n",
      "[대출등급, 주택소유상태]\n",
      "Chi2 Statistic: 663.4327372511038\n",
      "P-value: 3.225488826409481e-129\n",
      "[대출등급, 대출목적]\n",
      "Chi2 Statistic: 5744.213056799291\n",
      "P-value: 0.0\n",
      "[대출등급, 대출등급]\n",
      "Chi2 Statistic: 577764.0000000001\n",
      "P-value: 0.0\n"
     ]
    }
   ],
   "source": [
    "df = train\n",
    "def chi2_test(dependent_var, independent_var):\n",
    "    contingency_table = pd.crosstab(df[dependent_var], df[independent_var])\n",
    "    chi2, p, _, _ = chi2_contingency(contingency_table)\n",
    "    return chi2, p\n",
    "\n",
    "# 예시: 대출등급과 주택소유상태 간의 카이제곱 검정 수행\n",
    "cols = df.select_dtypes(include = object).columns\n",
    "for col in cols:\n",
    "    print(f'[대출등급, {col}]')\n",
    "    chi2_stat, p_value = chi2_test('대출등급', col)\n",
    "    print(f\"Chi2 Statistic: {chi2_stat}\")\n",
    "    print(f\"P-value: {p_value}\")\n"
   ],
   "metadata": {
    "collapsed": false,
    "ExecuteTime": {
     "end_time": "2024-03-08T04:06:52.633791900Z",
     "start_time": "2024-03-08T04:06:41.250310300Z"
    }
   }
  },
  {
   "cell_type": "code",
   "execution_count": 60,
   "outputs": [],
   "source": [],
   "metadata": {
    "collapsed": false,
    "ExecuteTime": {
     "end_time": "2024-03-08T04:06:52.647223Z",
     "start_time": "2024-03-08T04:06:52.633791900Z"
    }
   }
  },
  {
   "cell_type": "code",
   "execution_count": 60,
   "outputs": [],
   "source": [],
   "metadata": {
    "collapsed": false,
    "ExecuteTime": {
     "end_time": "2024-03-08T04:06:52.690400500Z",
     "start_time": "2024-03-08T04:06:52.652266100Z"
    }
   }
  },
  {
   "cell_type": "code",
   "source": [
    "df = train\n",
    "def chi2_test(dependent_var, independent_var):\n",
    "    contingency_table = pd.crosstab(df[dependent_var], df[independent_var])\n",
    "    chi2, p, _, _ = chi2_contingency(contingency_table)\n",
    "    return chi2, p\n",
    "\n",
    "# 예시: 대출등급과 주택소유상태 간의 카이제곱 검정 수행\n",
    "cols = df.select_dtypes(include = object).columns\n",
    "for col in cols:\n",
    "    print(f'>>>>>>>>>>>>>>>>>{col} 검정 시작>>>>>>>>>>>>>>>>>')\n",
    "    chi2_stat, p_value = chi2_test('대출등급', col)\n",
    "    print(f\"Chi2 Statistic: {chi2_stat}\")\n",
    "    print(f\"P-value: {p_value}\")\n",
    "\n",
    "def t_test(dependent_var, independent_var):\n",
    "    group1 = df[df[dependent_var] == 'A'][independent_var]\n",
    "    group2 = df[df[dependent_var] == 'B'][independent_var]\n",
    "    t_stat, p_value = ttest_ind(group1, group2, equal_var=False)  # 등분산 가정 안 함\n",
    "    return t_stat, p_value\n",
    "\n",
    "cols = df.select_dtypes(exclude = object).columns\n",
    "for col in cols:\n",
    "    print(f'>>>>>>>>>>>>>>>>>{col} 검정 시작>>>>>>>>>>>>>>>>>')\n",
    "    t_stat, p_value = t_test('대출등급', col)\n",
    "    print(f\"T-statistic: {t_stat}\")\n",
    "    print(f\"P-value: {p_value}\")"
   ],
   "metadata": {
    "colab": {
     "base_uri": "https://localhost:8080/"
    },
    "id": "3nTRJeHCV1Nb",
    "outputId": "b6471a84-7502-4303-dd36-a55998abe851",
    "ExecuteTime": {
     "end_time": "2024-03-08T04:07:04.401385300Z",
     "start_time": "2024-03-08T04:06:52.677815900Z"
    }
   },
   "execution_count": 61,
   "outputs": [
    {
     "name": "stdout",
     "output_type": "stream",
     "text": [
      ">>>>>>>>>>>>>>>>>ID 검정 시작>>>>>>>>>>>>>>>>>\n",
      "Chi2 Statistic: 577763.9999999998\n",
      "P-value: 0.49752584642206804\n",
      ">>>>>>>>>>>>>>>>>근로기간 검정 시작>>>>>>>>>>>>>>>>>\n",
      "Chi2 Statistic: 187.56633181905977\n",
      "P-value: 7.714129711631081e-09\n",
      ">>>>>>>>>>>>>>>>>주택소유상태 검정 시작>>>>>>>>>>>>>>>>>\n",
      "Chi2 Statistic: 663.4327372511038\n",
      "P-value: 3.225488826409481e-129\n",
      ">>>>>>>>>>>>>>>>>대출목적 검정 시작>>>>>>>>>>>>>>>>>\n",
      "Chi2 Statistic: 5744.213056799291\n",
      "P-value: 0.0\n",
      ">>>>>>>>>>>>>>>>>대출등급 검정 시작>>>>>>>>>>>>>>>>>\n",
      "Chi2 Statistic: 577764.0000000001\n",
      "P-value: 0.0\n",
      ">>>>>>>>>>>>>>>>>대출금액 검정 시작>>>>>>>>>>>>>>>>>\n",
      "T-statistic: 11.279409144817087\n",
      "P-value: 1.8557439688926076e-29\n",
      ">>>>>>>>>>>>>>>>>대출기간 검정 시작>>>>>>>>>>>>>>>>>\n",
      "T-statistic: -54.028589761779614\n",
      "P-value: 0.0\n",
      ">>>>>>>>>>>>>>>>>연간소득 검정 시작>>>>>>>>>>>>>>>>>\n",
      "T-statistic: 13.149245118776847\n",
      "P-value: 2.2068624911263098e-39\n",
      ">>>>>>>>>>>>>>>>>부채_대비_소득_비율 검정 시작>>>>>>>>>>>>>>>>>\n",
      "T-statistic: -20.88524996571793\n",
      "P-value: 2.593439782473503e-96\n",
      ">>>>>>>>>>>>>>>>>총계좌수 검정 시작>>>>>>>>>>>>>>>>>\n",
      "T-statistic: 14.747932193446172\n",
      "P-value: 4.45498589649121e-49\n",
      ">>>>>>>>>>>>>>>>>최근_2년간_연체_횟수 검정 시작>>>>>>>>>>>>>>>>>\n",
      "T-statistic: -18.827279830143162\n",
      "P-value: 9.376305311136834e-79\n",
      ">>>>>>>>>>>>>>>>>총상환원금 검정 시작>>>>>>>>>>>>>>>>>\n",
      "T-statistic: 23.317065098839787\n",
      "P-value: 3.082607507551221e-119\n",
      ">>>>>>>>>>>>>>>>>총상환이자 검정 시작>>>>>>>>>>>>>>>>>\n",
      "T-statistic: -37.32622396161958\n",
      "P-value: 2.75184250358061e-300\n",
      ">>>>>>>>>>>>>>>>>총연체금액 검정 시작>>>>>>>>>>>>>>>>>\n",
      "T-statistic: -1.8409160205102577\n",
      "P-value: 0.06564064429840608\n",
      ">>>>>>>>>>>>>>>>>연체계좌수 검정 시작>>>>>>>>>>>>>>>>>\n",
      "T-statistic: -7.424270190678054\n",
      "P-value: 1.154450886668168e-13\n",
      ">>>>>>>>>>>>>>>>>월상환액_대출금액_비율 검정 시작>>>>>>>>>>>>>>>>>\n",
      "T-statistic: -3.9439652742284514\n",
      "P-value: 8.02969327659096e-05\n",
      ">>>>>>>>>>>>>>>>>상환_대비_대출금_비율 검정 시작>>>>>>>>>>>>>>>>>\n",
      "T-statistic: 18.772289761480323\n",
      "P-value: 3.2588834892979444e-78\n",
      ">>>>>>>>>>>>>>>>>대출_상환_비율 검정 시작>>>>>>>>>>>>>>>>>\n",
      "T-statistic: 6.651424978703972\n",
      "P-value: 2.946400309017459e-11\n"
     ]
    }
   ]
  },
  {
   "cell_type": "markdown",
   "source": [
    "# 변수 선택"
   ],
   "metadata": {
    "id": "bDOFdBMpXK-_"
   }
  },
  {
   "cell_type": "code",
   "source": [
    "train.drop(columns = ['연체계좌수', '최근_2년간_연체_횟수', '주택소유상태', '대출목적', '총계좌수', '근로기간', '총연체금액'], inplace=True)\n",
    "test.drop(columns = ['연체계좌수', '최근_2년간_연체_횟수', '주택소유상태', '대출목적', '총계좌수', '근로기간', '총연체금액'], inplace=True)\n",
    "\n",
    "train.set_index('ID', inplace=True)\n",
    "test.set_index('ID', inplace=True)"
   ],
   "metadata": {
    "id": "7VibuURxV4MO",
    "ExecuteTime": {
     "end_time": "2024-03-08T04:07:04.436191200Z",
     "start_time": "2024-03-08T04:07:04.419954700Z"
    }
   },
   "execution_count": 62,
   "outputs": []
  },
  {
   "cell_type": "markdown",
   "source": [
    "# 이상치 처리 및 스케일링"
   ],
   "metadata": {
    "id": "vVfe0-TlXMyk"
   }
  },
  {
   "cell_type": "code",
   "source": [
    "def remove_outliers(data, column_name, grade_column='대출등급', alpha=0.00044):\n",
    "  data_no_outliers = pd.DataFrame()\n",
    "  for grade in data[grade_column].unique():\n",
    "      subset = data[data[grade_column] == grade]\n",
    "      lower_limit = subset[column_name].quantile(alpha / 2)\n",
    "      upper_limit = subset[column_name].quantile(1 - alpha / 2)\n",
    "      subset_no_outliers = subset[(subset[column_name] >= lower_limit) & (subset[column_name] <= upper_limit)]\n",
    "      data_no_outliers = pd.concat([data_no_outliers, subset_no_outliers])\n",
    "  return data_no_outliers\n",
    "cols = train.select_dtypes(exclude=object).columns\n",
    "for col in cols:\n",
    "  train = remove_outliers(train, col, '대출등급')\n",
    "\n",
    "cols = train.select_dtypes(exclude=object).columns\n",
    "scaler = MinMaxScaler()\n",
    "train[cols] = scaler.fit_transform(train[cols])\n",
    "test[cols] = scaler.transform(test[cols])\n",
    "\n",
    "# tenure_mapping = {\n",
    "#     '10+ years': 11,\n",
    "#     '2 years': 3,\n",
    "#     '< 1 year': 1,\n",
    "#     '3 years': 4,\n",
    "#     '1 year': 2,\n",
    "#     'Unknown': 0,\n",
    "#     '5 years': 6,\n",
    "#     '4 years': 5,\n",
    "#     '8 years': 9,\n",
    "#     '6 years': 7,\n",
    "#     '7 years': 8,\n",
    "#     '9 years': 10,\n",
    "#     '10+years': 11,\n",
    "#     '<1 year': 1,\n",
    "#     '3': 4,\n",
    "#     '1 years': 2\n",
    "# }\n",
    "# train['근로기간'] = train['근로기간'].map(tenure_mapping)\n",
    "# test['근로기간'] = test['근로기간'].map(tenure_mapping)"
   ],
   "metadata": {
    "id": "49bM8q7pV8l5",
    "ExecuteTime": {
     "end_time": "2024-03-08T04:07:05.497121700Z",
     "start_time": "2024-03-08T04:07:04.439559100Z"
    }
   },
   "execution_count": 63,
   "outputs": []
  },
  {
   "cell_type": "markdown",
   "source": [
    "# 라벨링"
   ],
   "metadata": {
    "id": "p5n4slgnXOcR"
   }
  },
  {
   "cell_type": "code",
   "source": [
    "if '대출목적' in test.columns:\n",
    "  test['대출목적'] = test['대출목적'].replace('결혼', '휴가')\n",
    "\n",
    "# cols = test.select_dtypes(include=object).columns\n",
    "# for col in cols:\n",
    "#     le = LabelEncoder()\n",
    "#     train[col] = le.fit_transform(train[col])\n",
    "#     test[col] = le.transform(test[col])\n",
    "\n",
    "map_list = {'A' : 6, 'B' : 5, 'C' : 4, 'D' : 3,  'E' : 2,  'F' : 1, 'G' : 0}\n",
    "for key, item in map_list.items():\n",
    "  train['대출등급'] = train['대출등급'].replace(key, item)"
   ],
   "metadata": {
    "id": "TFKEgzUdWBB0",
    "ExecuteTime": {
     "end_time": "2024-03-08T04:07:05.591864500Z",
     "start_time": "2024-03-08T04:07:05.503123Z"
    }
   },
   "execution_count": 64,
   "outputs": []
  },
  {
   "cell_type": "markdown",
   "source": [],
   "metadata": {
    "collapsed": false
   }
  },
  {
   "cell_type": "code",
   "source": [
    "X = train.drop(columns=['대출등급'])\n",
    "y = train['대출등급']"
   ],
   "metadata": {
    "id": "8kny8mSKXRny",
    "ExecuteTime": {
     "end_time": "2024-03-08T04:07:05.606420500Z",
     "start_time": "2024-03-08T04:07:05.592869300Z"
    }
   },
   "execution_count": 65,
   "outputs": []
  },
  {
   "cell_type": "markdown",
   "source": [
    "# 클래스 불균형 문제 해결 (사용안함)"
   ],
   "metadata": {
    "id": "tGvjJ72ZXVWk"
   }
  },
  {
   "cell_type": "code",
   "source": [
    "# sampling_strategy_under = {\n",
    "#   0: y.value_counts()[0],\n",
    "#   1: y.value_counts()[1],\n",
    "#   2: y.value_counts()[2]-(i*100),\n",
    "#   3: y.value_counts()[3]-(i*450),\n",
    "#   4: y.value_counts()[4]-(i*1000),\n",
    "#   5: y.value_counts()[5]-(i*1000),\n",
    "#   6: y.value_counts()[6]-(i*500)\n",
    "# }\n",
    "\n",
    "# sampling_strategy_over = {\n",
    "#     0: y.value_counts()[0]+(10*i),\n",
    "#     1: y.value_counts()[1]+(20*i),\n",
    "#     2: y.value_counts()[2]+(30*i),\n",
    "#     3: y.value_counts()[3],\n",
    "#     4: y.value_counts()[4],\n",
    "#     5: y.value_counts()[5],\n",
    "#     6: y.value_counts()[6]\n",
    "# }\n",
    "\n",
    "# 오버샘플링\n",
    "# smote = SMOTE(sampling_strategy=sampling_strategy_over, random_state=1111)\n",
    "# smote = SMOTE(random_state=1111)\n",
    "# smote = SMOTETomek(tomek=TomekLinks(sampling_strategy='auto'))\n",
    "# X, y = smote.fit_resample(X, y)\n",
    "\n",
    "\n",
    "# 언더샘플링\n",
    "# under_sampler = RandomUnderSampler(sampling_strategy=sampling_strategy_under,random_state=1111)\n",
    "# X, y = under_sampler.fit_resample(X, y)\n",
    "# print(y.value_counts())"
   ],
   "metadata": {
    "id": "YzFc9drzWDzg",
    "ExecuteTime": {
     "end_time": "2024-03-08T04:07:05.636433800Z",
     "start_time": "2024-03-08T04:07:05.611422300Z"
    }
   },
   "execution_count": 66,
   "outputs": []
  },
  {
   "cell_type": "markdown",
   "source": [
    "# 5-fold 교차 검증"
   ],
   "metadata": {
    "id": "CuLUS4qjXbA7"
   }
  },
  {
   "cell_type": "code",
   "source": [
    "# # 5-fold 교차 검증을 위한 StratifiedKFold 객체 생성\n",
    "# mac_f1score = []\n",
    "# best_model = None\n",
    "# best_score = 0.0\n",
    "# kfold = StratifiedKFold(n_splits=5, shuffle=True, random_state=42)\n",
    "# for i, (train_index, val_index) in enumerate(kfold.split(X, y)):\n",
    "#   X_train_fold, X_val_fold = X.iloc[train_index], X.iloc[val_index]\n",
    "#   y_train_fold, y_val_fold = y.iloc[train_index], y.iloc[val_index]\n",
    "#\n",
    "#   # 모델 생성 및 훈련\n",
    "#   model = RandomForestClassifier(n_estimators= 190,\n",
    "#                                 max_depth=15,\n",
    "#                                 min_samples_split = 4,\n",
    "#                                 # max_features  = None,\n",
    "#                                 random_state=1111\n",
    "#                                 )\n",
    "#\n",
    "#   model.fit(X_train_fold, y_train_fold)\n",
    "#\n",
    "#   # 검증 세트에 대한 예측\n",
    "#   pred_val = model.predict(X_val_fold)\n",
    "#\n",
    "#   # 검증 세트 정확도 평가\n",
    "#   # pred_val = np.round(pred_val) # regressor\n",
    "#   mac_f1 = f1_score(y_val_fold, pred_val, average='macro')\n",
    "#   print(f'{i+1} Fold macro f1 score: {mac_f1}')\n",
    "#   mac_f1score.append(mac_f1)\n",
    "#\n",
    "# print('5-fold 평균 macro f1 score:', sum(mac_f1score) / len(mac_f1score))"
   ],
   "metadata": {
    "id": "drS_9SlTWF50",
    "ExecuteTime": {
     "end_time": "2024-03-08T04:07:05.645433Z",
     "start_time": "2024-03-08T04:07:05.627432300Z"
    }
   },
   "execution_count": 67,
   "outputs": []
  },
  {
   "cell_type": "markdown",
   "source": [
    "# 결과"
   ],
   "metadata": {
    "id": "QKto3OWXXgMD"
   }
  },
  {
   "cell_type": "code",
   "source": [
    "# 모델 생성 및 훈련\n",
    "model = RandomForestClassifier(n_estimators= 190,\n",
    "                              max_depth=15,\n",
    "                              min_samples_split = 4,\n",
    "                              max_features  = None,\n",
    "                              random_state=1111\n",
    "                              )\n",
    "\n",
    "model.fit(X, y)\n",
    "pred = model.predict(test)\n",
    "\n",
    "sub = pd.read_csv('sample_submission.csv')\n",
    "sub['대출등급'] = pred\n",
    "for key, item in map_list.items():\n",
    "    sub['대출등급'] = sub['대출등급'].replace(item, key)\n",
    "sub"
   ],
   "metadata": {
    "colab": {
     "base_uri": "https://localhost:8080/",
     "height": 423
    },
    "id": "DNbWu61IWLvr",
    "outputId": "f736eeca-3aed-4d8f-a31a-b1e1470841a7",
    "ExecuteTime": {
     "end_time": "2024-03-08T04:08:43.538705500Z",
     "start_time": "2024-03-08T04:07:05.646437400Z"
    }
   },
   "execution_count": 68,
   "outputs": [
    {
     "data": {
      "text/plain": "               ID 대출등급\n0      TEST_00000    B\n1      TEST_00001    B\n2      TEST_00002    A\n3      TEST_00003    C\n4      TEST_00004    C\n...           ...  ...\n64192  TEST_64192    D\n64193  TEST_64193    D\n64194  TEST_64194    D\n64195  TEST_64195    C\n64196  TEST_64196    A\n\n[64197 rows x 2 columns]",
      "text/html": "<div>\n<style scoped>\n    .dataframe tbody tr th:only-of-type {\n        vertical-align: middle;\n    }\n\n    .dataframe tbody tr th {\n        vertical-align: top;\n    }\n\n    .dataframe thead th {\n        text-align: right;\n    }\n</style>\n<table border=\"1\" class=\"dataframe\">\n  <thead>\n    <tr style=\"text-align: right;\">\n      <th></th>\n      <th>ID</th>\n      <th>대출등급</th>\n    </tr>\n  </thead>\n  <tbody>\n    <tr>\n      <th>0</th>\n      <td>TEST_00000</td>\n      <td>B</td>\n    </tr>\n    <tr>\n      <th>1</th>\n      <td>TEST_00001</td>\n      <td>B</td>\n    </tr>\n    <tr>\n      <th>2</th>\n      <td>TEST_00002</td>\n      <td>A</td>\n    </tr>\n    <tr>\n      <th>3</th>\n      <td>TEST_00003</td>\n      <td>C</td>\n    </tr>\n    <tr>\n      <th>4</th>\n      <td>TEST_00004</td>\n      <td>C</td>\n    </tr>\n    <tr>\n      <th>...</th>\n      <td>...</td>\n      <td>...</td>\n    </tr>\n    <tr>\n      <th>64192</th>\n      <td>TEST_64192</td>\n      <td>D</td>\n    </tr>\n    <tr>\n      <th>64193</th>\n      <td>TEST_64193</td>\n      <td>D</td>\n    </tr>\n    <tr>\n      <th>64194</th>\n      <td>TEST_64194</td>\n      <td>D</td>\n    </tr>\n    <tr>\n      <th>64195</th>\n      <td>TEST_64195</td>\n      <td>C</td>\n    </tr>\n    <tr>\n      <th>64196</th>\n      <td>TEST_64196</td>\n      <td>A</td>\n    </tr>\n  </tbody>\n</table>\n<p>64197 rows × 2 columns</p>\n</div>"
     },
     "execution_count": 68,
     "metadata": {},
     "output_type": "execute_result"
    }
   ]
  },
  {
   "cell_type": "code",
   "execution_count": 71,
   "outputs": [],
   "source": [
    "sub.to_csv('sub.csv', index=False)"
   ],
   "metadata": {
    "collapsed": false,
    "ExecuteTime": {
     "end_time": "2024-03-08T04:11:20.293510700Z",
     "start_time": "2024-03-08T04:11:20.223434500Z"
    }
   }
  },
  {
   "cell_type": "code",
   "execution_count": 69,
   "outputs": [
    {
     "name": "stderr",
     "output_type": "stream",
     "text": [
      "C:\\Users\\j_be_\\AppData\\Local\\Temp\\ipykernel_26596\\2052720613.py:2: FutureWarning: \n",
      "\n",
      "Passing `palette` without assigning `hue` is deprecated and will be removed in v0.14.0. Assign the `x` variable to `hue` and set `legend=False` for the same effect.\n",
      "\n",
      "  sns.barplot(x = sub['대출등급'].value_counts().sort_index().index, y = sub['대출등급'].value_counts().sort_index(),\n"
     ]
    },
    {
     "ename": "ValueError",
     "evalue": "keyword grid_line_style is not recognized; valid keywords are ['size', 'width', 'color', 'tickdir', 'pad', 'labelsize', 'labelcolor', 'zorder', 'gridOn', 'tick1On', 'tick2On', 'label1On', 'label2On', 'length', 'direction', 'left', 'bottom', 'right', 'top', 'labelleft', 'labelbottom', 'labelright', 'labeltop', 'labelrotation', 'grid_agg_filter', 'grid_alpha', 'grid_animated', 'grid_antialiased', 'grid_clip_box', 'grid_clip_on', 'grid_clip_path', 'grid_color', 'grid_dash_capstyle', 'grid_dash_joinstyle', 'grid_dashes', 'grid_data', 'grid_drawstyle', 'grid_figure', 'grid_fillstyle', 'grid_gapcolor', 'grid_gid', 'grid_in_layout', 'grid_label', 'grid_linestyle', 'grid_linewidth', 'grid_marker', 'grid_markeredgecolor', 'grid_markeredgewidth', 'grid_markerfacecolor', 'grid_markerfacecoloralt', 'grid_markersize', 'grid_markevery', 'grid_mouseover', 'grid_path_effects', 'grid_picker', 'grid_pickradius', 'grid_rasterized', 'grid_sketch_params', 'grid_snap', 'grid_solid_capstyle', 'grid_solid_joinstyle', 'grid_transform', 'grid_url', 'grid_visible', 'grid_xdata', 'grid_ydata', 'grid_zorder', 'grid_aa', 'grid_c', 'grid_ds', 'grid_ls', 'grid_lw', 'grid_mec', 'grid_mew', 'grid_mfc', 'grid_mfcalt', 'grid_ms']",
     "output_type": "error",
     "traceback": [
      "\u001B[1;31m---------------------------------------------------------------------------\u001B[0m",
      "\u001B[1;31mValueError\u001B[0m                                Traceback (most recent call last)",
      "Cell \u001B[1;32mIn[69], line 4\u001B[0m\n\u001B[0;32m      1\u001B[0m plt\u001B[38;5;241m.\u001B[39mrcParams[\u001B[38;5;124m'\u001B[39m\u001B[38;5;124mfont.family\u001B[39m\u001B[38;5;124m'\u001B[39m] \u001B[38;5;241m=\u001B[39m \u001B[38;5;124m'\u001B[39m\u001B[38;5;124mMalgun Gothic\u001B[39m\u001B[38;5;124m'\u001B[39m\n\u001B[0;32m      2\u001B[0m sns\u001B[38;5;241m.\u001B[39mbarplot(x \u001B[38;5;241m=\u001B[39m sub[\u001B[38;5;124m'\u001B[39m\u001B[38;5;124m대출등급\u001B[39m\u001B[38;5;124m'\u001B[39m]\u001B[38;5;241m.\u001B[39mvalue_counts()\u001B[38;5;241m.\u001B[39msort_index()\u001B[38;5;241m.\u001B[39mindex, y \u001B[38;5;241m=\u001B[39m sub[\u001B[38;5;124m'\u001B[39m\u001B[38;5;124m대출등급\u001B[39m\u001B[38;5;124m'\u001B[39m]\u001B[38;5;241m.\u001B[39mvalue_counts()\u001B[38;5;241m.\u001B[39msort_index(),\n\u001B[0;32m      3\u001B[0m             palette\u001B[38;5;241m=\u001B[39m\u001B[38;5;124m'\u001B[39m\u001B[38;5;124mSet2\u001B[39m\u001B[38;5;124m'\u001B[39m)\n\u001B[1;32m----> 4\u001B[0m \u001B[43mplt\u001B[49m\u001B[38;5;241;43m.\u001B[39;49m\u001B[43mgrid\u001B[49m\u001B[43m(\u001B[49m\u001B[38;5;28;43;01mTrue\u001B[39;49;00m\u001B[43m,\u001B[49m\u001B[43m \u001B[49m\u001B[43malpha\u001B[49m\u001B[38;5;241;43m=\u001B[39;49m\u001B[38;5;241;43m0.6\u001B[39;49m\u001B[43m,\u001B[49m\u001B[43m \u001B[49m\u001B[43mline_style\u001B[49m\u001B[38;5;241;43m=\u001B[39;49m\u001B[38;5;124;43m'\u001B[39;49m\u001B[38;5;124;43m--\u001B[39;49m\u001B[38;5;124;43m'\u001B[39;49m\u001B[43m)\u001B[49m\n\u001B[0;32m      5\u001B[0m plt\u001B[38;5;241m.\u001B[39mylabel(\u001B[38;5;124m'\u001B[39m\u001B[38;5;124mCount\u001B[39m\u001B[38;5;124m'\u001B[39m)\n\u001B[0;32m      6\u001B[0m plt\u001B[38;5;241m.\u001B[39mxlabel(\u001B[38;5;124m'\u001B[39m\u001B[38;5;124m대출등급\u001B[39m\u001B[38;5;124m'\u001B[39m)\n",
      "File \u001B[1;32m~\\.conda\\envs\\Dacon\\lib\\site-packages\\matplotlib\\_api\\deprecation.py:297\u001B[0m, in \u001B[0;36mrename_parameter.<locals>.wrapper\u001B[1;34m(*args, **kwargs)\u001B[0m\n\u001B[0;32m    292\u001B[0m     warn_deprecated(\n\u001B[0;32m    293\u001B[0m         since, message\u001B[38;5;241m=\u001B[39m\u001B[38;5;124mf\u001B[39m\u001B[38;5;124m\"\u001B[39m\u001B[38;5;124mThe \u001B[39m\u001B[38;5;132;01m{\u001B[39;00mold\u001B[38;5;132;01m!r}\u001B[39;00m\u001B[38;5;124m parameter of \u001B[39m\u001B[38;5;132;01m{\u001B[39;00mfunc\u001B[38;5;241m.\u001B[39m\u001B[38;5;18m__name__\u001B[39m\u001B[38;5;132;01m}\u001B[39;00m\u001B[38;5;124m() \u001B[39m\u001B[38;5;124m\"\u001B[39m\n\u001B[0;32m    294\u001B[0m         \u001B[38;5;124mf\u001B[39m\u001B[38;5;124m\"\u001B[39m\u001B[38;5;124mhas been renamed \u001B[39m\u001B[38;5;132;01m{\u001B[39;00mnew\u001B[38;5;132;01m!r}\u001B[39;00m\u001B[38;5;124m since Matplotlib \u001B[39m\u001B[38;5;132;01m{\u001B[39;00msince\u001B[38;5;132;01m}\u001B[39;00m\u001B[38;5;124m; support \u001B[39m\u001B[38;5;124m\"\u001B[39m\n\u001B[0;32m    295\u001B[0m         \u001B[38;5;124mf\u001B[39m\u001B[38;5;124m\"\u001B[39m\u001B[38;5;124mfor the old name will be dropped %(removal)s.\u001B[39m\u001B[38;5;124m\"\u001B[39m)\n\u001B[0;32m    296\u001B[0m     kwargs[new] \u001B[38;5;241m=\u001B[39m kwargs\u001B[38;5;241m.\u001B[39mpop(old)\n\u001B[1;32m--> 297\u001B[0m \u001B[38;5;28;01mreturn\u001B[39;00m func(\u001B[38;5;241m*\u001B[39margs, \u001B[38;5;241m*\u001B[39m\u001B[38;5;241m*\u001B[39mkwargs)\n",
      "File \u001B[1;32m~\\.conda\\envs\\Dacon\\lib\\site-packages\\matplotlib\\pyplot.py:2532\u001B[0m, in \u001B[0;36mgrid\u001B[1;34m(visible, which, axis, **kwargs)\u001B[0m\n\u001B[0;32m   2530\u001B[0m \u001B[38;5;129m@_copy_docstring_and_deprecators\u001B[39m(Axes\u001B[38;5;241m.\u001B[39mgrid)\n\u001B[0;32m   2531\u001B[0m \u001B[38;5;28;01mdef\u001B[39;00m \u001B[38;5;21mgrid\u001B[39m(visible\u001B[38;5;241m=\u001B[39m\u001B[38;5;28;01mNone\u001B[39;00m, which\u001B[38;5;241m=\u001B[39m\u001B[38;5;124m'\u001B[39m\u001B[38;5;124mmajor\u001B[39m\u001B[38;5;124m'\u001B[39m, axis\u001B[38;5;241m=\u001B[39m\u001B[38;5;124m'\u001B[39m\u001B[38;5;124mboth\u001B[39m\u001B[38;5;124m'\u001B[39m, \u001B[38;5;241m*\u001B[39m\u001B[38;5;241m*\u001B[39mkwargs):\n\u001B[1;32m-> 2532\u001B[0m     \u001B[38;5;28;01mreturn\u001B[39;00m gca()\u001B[38;5;241m.\u001B[39mgrid(visible\u001B[38;5;241m=\u001B[39mvisible, which\u001B[38;5;241m=\u001B[39mwhich, axis\u001B[38;5;241m=\u001B[39maxis, \u001B[38;5;241m*\u001B[39m\u001B[38;5;241m*\u001B[39mkwargs)\n",
      "File \u001B[1;32m~\\.conda\\envs\\Dacon\\lib\\site-packages\\matplotlib\\_api\\deprecation.py:297\u001B[0m, in \u001B[0;36mrename_parameter.<locals>.wrapper\u001B[1;34m(*args, **kwargs)\u001B[0m\n\u001B[0;32m    292\u001B[0m     warn_deprecated(\n\u001B[0;32m    293\u001B[0m         since, message\u001B[38;5;241m=\u001B[39m\u001B[38;5;124mf\u001B[39m\u001B[38;5;124m\"\u001B[39m\u001B[38;5;124mThe \u001B[39m\u001B[38;5;132;01m{\u001B[39;00mold\u001B[38;5;132;01m!r}\u001B[39;00m\u001B[38;5;124m parameter of \u001B[39m\u001B[38;5;132;01m{\u001B[39;00mfunc\u001B[38;5;241m.\u001B[39m\u001B[38;5;18m__name__\u001B[39m\u001B[38;5;132;01m}\u001B[39;00m\u001B[38;5;124m() \u001B[39m\u001B[38;5;124m\"\u001B[39m\n\u001B[0;32m    294\u001B[0m         \u001B[38;5;124mf\u001B[39m\u001B[38;5;124m\"\u001B[39m\u001B[38;5;124mhas been renamed \u001B[39m\u001B[38;5;132;01m{\u001B[39;00mnew\u001B[38;5;132;01m!r}\u001B[39;00m\u001B[38;5;124m since Matplotlib \u001B[39m\u001B[38;5;132;01m{\u001B[39;00msince\u001B[38;5;132;01m}\u001B[39;00m\u001B[38;5;124m; support \u001B[39m\u001B[38;5;124m\"\u001B[39m\n\u001B[0;32m    295\u001B[0m         \u001B[38;5;124mf\u001B[39m\u001B[38;5;124m\"\u001B[39m\u001B[38;5;124mfor the old name will be dropped %(removal)s.\u001B[39m\u001B[38;5;124m\"\u001B[39m)\n\u001B[0;32m    296\u001B[0m     kwargs[new] \u001B[38;5;241m=\u001B[39m kwargs\u001B[38;5;241m.\u001B[39mpop(old)\n\u001B[1;32m--> 297\u001B[0m \u001B[38;5;28;01mreturn\u001B[39;00m func(\u001B[38;5;241m*\u001B[39margs, \u001B[38;5;241m*\u001B[39m\u001B[38;5;241m*\u001B[39mkwargs)\n",
      "File \u001B[1;32m~\\.conda\\envs\\Dacon\\lib\\site-packages\\matplotlib\\axes\\_base.py:3237\u001B[0m, in \u001B[0;36m_AxesBase.grid\u001B[1;34m(self, visible, which, axis, **kwargs)\u001B[0m\n\u001B[0;32m   3235\u001B[0m _api\u001B[38;5;241m.\u001B[39mcheck_in_list([\u001B[38;5;124m'\u001B[39m\u001B[38;5;124mx\u001B[39m\u001B[38;5;124m'\u001B[39m, \u001B[38;5;124m'\u001B[39m\u001B[38;5;124my\u001B[39m\u001B[38;5;124m'\u001B[39m, \u001B[38;5;124m'\u001B[39m\u001B[38;5;124mboth\u001B[39m\u001B[38;5;124m'\u001B[39m], axis\u001B[38;5;241m=\u001B[39maxis)\n\u001B[0;32m   3236\u001B[0m \u001B[38;5;28;01mif\u001B[39;00m axis \u001B[38;5;129;01min\u001B[39;00m [\u001B[38;5;124m'\u001B[39m\u001B[38;5;124mx\u001B[39m\u001B[38;5;124m'\u001B[39m, \u001B[38;5;124m'\u001B[39m\u001B[38;5;124mboth\u001B[39m\u001B[38;5;124m'\u001B[39m]:\n\u001B[1;32m-> 3237\u001B[0m     \u001B[38;5;28mself\u001B[39m\u001B[38;5;241m.\u001B[39mxaxis\u001B[38;5;241m.\u001B[39mgrid(visible, which\u001B[38;5;241m=\u001B[39mwhich, \u001B[38;5;241m*\u001B[39m\u001B[38;5;241m*\u001B[39mkwargs)\n\u001B[0;32m   3238\u001B[0m \u001B[38;5;28;01mif\u001B[39;00m axis \u001B[38;5;129;01min\u001B[39;00m [\u001B[38;5;124m'\u001B[39m\u001B[38;5;124my\u001B[39m\u001B[38;5;124m'\u001B[39m, \u001B[38;5;124m'\u001B[39m\u001B[38;5;124mboth\u001B[39m\u001B[38;5;124m'\u001B[39m]:\n\u001B[0;32m   3239\u001B[0m     \u001B[38;5;28mself\u001B[39m\u001B[38;5;241m.\u001B[39myaxis\u001B[38;5;241m.\u001B[39mgrid(visible, which\u001B[38;5;241m=\u001B[39mwhich, \u001B[38;5;241m*\u001B[39m\u001B[38;5;241m*\u001B[39mkwargs)\n",
      "File \u001B[1;32m~\\.conda\\envs\\Dacon\\lib\\site-packages\\matplotlib\\_api\\deprecation.py:297\u001B[0m, in \u001B[0;36mrename_parameter.<locals>.wrapper\u001B[1;34m(*args, **kwargs)\u001B[0m\n\u001B[0;32m    292\u001B[0m     warn_deprecated(\n\u001B[0;32m    293\u001B[0m         since, message\u001B[38;5;241m=\u001B[39m\u001B[38;5;124mf\u001B[39m\u001B[38;5;124m\"\u001B[39m\u001B[38;5;124mThe \u001B[39m\u001B[38;5;132;01m{\u001B[39;00mold\u001B[38;5;132;01m!r}\u001B[39;00m\u001B[38;5;124m parameter of \u001B[39m\u001B[38;5;132;01m{\u001B[39;00mfunc\u001B[38;5;241m.\u001B[39m\u001B[38;5;18m__name__\u001B[39m\u001B[38;5;132;01m}\u001B[39;00m\u001B[38;5;124m() \u001B[39m\u001B[38;5;124m\"\u001B[39m\n\u001B[0;32m    294\u001B[0m         \u001B[38;5;124mf\u001B[39m\u001B[38;5;124m\"\u001B[39m\u001B[38;5;124mhas been renamed \u001B[39m\u001B[38;5;132;01m{\u001B[39;00mnew\u001B[38;5;132;01m!r}\u001B[39;00m\u001B[38;5;124m since Matplotlib \u001B[39m\u001B[38;5;132;01m{\u001B[39;00msince\u001B[38;5;132;01m}\u001B[39;00m\u001B[38;5;124m; support \u001B[39m\u001B[38;5;124m\"\u001B[39m\n\u001B[0;32m    295\u001B[0m         \u001B[38;5;124mf\u001B[39m\u001B[38;5;124m\"\u001B[39m\u001B[38;5;124mfor the old name will be dropped %(removal)s.\u001B[39m\u001B[38;5;124m\"\u001B[39m)\n\u001B[0;32m    296\u001B[0m     kwargs[new] \u001B[38;5;241m=\u001B[39m kwargs\u001B[38;5;241m.\u001B[39mpop(old)\n\u001B[1;32m--> 297\u001B[0m \u001B[38;5;28;01mreturn\u001B[39;00m func(\u001B[38;5;241m*\u001B[39margs, \u001B[38;5;241m*\u001B[39m\u001B[38;5;241m*\u001B[39mkwargs)\n",
      "File \u001B[1;32m~\\.conda\\envs\\Dacon\\lib\\site-packages\\matplotlib\\axis.py:1593\u001B[0m, in \u001B[0;36mAxis.grid\u001B[1;34m(self, visible, which, **kwargs)\u001B[0m\n\u001B[0;32m   1590\u001B[0m \u001B[38;5;28;01mif\u001B[39;00m which \u001B[38;5;129;01min\u001B[39;00m [\u001B[38;5;124m'\u001B[39m\u001B[38;5;124mmajor\u001B[39m\u001B[38;5;124m'\u001B[39m, \u001B[38;5;124m'\u001B[39m\u001B[38;5;124mboth\u001B[39m\u001B[38;5;124m'\u001B[39m]:\n\u001B[0;32m   1591\u001B[0m     gridkw[\u001B[38;5;124m'\u001B[39m\u001B[38;5;124mgridOn\u001B[39m\u001B[38;5;124m'\u001B[39m] \u001B[38;5;241m=\u001B[39m (\u001B[38;5;129;01mnot\u001B[39;00m \u001B[38;5;28mself\u001B[39m\u001B[38;5;241m.\u001B[39m_major_tick_kw[\u001B[38;5;124m'\u001B[39m\u001B[38;5;124mgridOn\u001B[39m\u001B[38;5;124m'\u001B[39m]\n\u001B[0;32m   1592\u001B[0m                         \u001B[38;5;28;01mif\u001B[39;00m visible \u001B[38;5;129;01mis\u001B[39;00m \u001B[38;5;28;01mNone\u001B[39;00m \u001B[38;5;28;01melse\u001B[39;00m visible)\n\u001B[1;32m-> 1593\u001B[0m     \u001B[38;5;28mself\u001B[39m\u001B[38;5;241m.\u001B[39mset_tick_params(which\u001B[38;5;241m=\u001B[39m\u001B[38;5;124m'\u001B[39m\u001B[38;5;124mmajor\u001B[39m\u001B[38;5;124m'\u001B[39m, \u001B[38;5;241m*\u001B[39m\u001B[38;5;241m*\u001B[39mgridkw)\n\u001B[0;32m   1594\u001B[0m \u001B[38;5;28mself\u001B[39m\u001B[38;5;241m.\u001B[39mstale \u001B[38;5;241m=\u001B[39m \u001B[38;5;28;01mTrue\u001B[39;00m\n",
      "File \u001B[1;32m~\\.conda\\envs\\Dacon\\lib\\site-packages\\matplotlib\\axis.py:925\u001B[0m, in \u001B[0;36mAxis.set_tick_params\u001B[1;34m(self, which, reset, **kwargs)\u001B[0m\n\u001B[0;32m    918\u001B[0m \u001B[38;5;250m\u001B[39m\u001B[38;5;124;03m\"\"\"\u001B[39;00m\n\u001B[0;32m    919\u001B[0m \u001B[38;5;124;03mSet appearance parameters for ticks, ticklabels, and gridlines.\u001B[39;00m\n\u001B[0;32m    920\u001B[0m \n\u001B[0;32m    921\u001B[0m \u001B[38;5;124;03mFor documentation of keyword arguments, see\u001B[39;00m\n\u001B[0;32m    922\u001B[0m \u001B[38;5;124;03m:meth:`matplotlib.axes.Axes.tick_params`.\u001B[39;00m\n\u001B[0;32m    923\u001B[0m \u001B[38;5;124;03m\"\"\"\u001B[39;00m\n\u001B[0;32m    924\u001B[0m _api\u001B[38;5;241m.\u001B[39mcheck_in_list([\u001B[38;5;124m'\u001B[39m\u001B[38;5;124mmajor\u001B[39m\u001B[38;5;124m'\u001B[39m, \u001B[38;5;124m'\u001B[39m\u001B[38;5;124mminor\u001B[39m\u001B[38;5;124m'\u001B[39m, \u001B[38;5;124m'\u001B[39m\u001B[38;5;124mboth\u001B[39m\u001B[38;5;124m'\u001B[39m], which\u001B[38;5;241m=\u001B[39mwhich)\n\u001B[1;32m--> 925\u001B[0m kwtrans \u001B[38;5;241m=\u001B[39m \u001B[38;5;28;43mself\u001B[39;49m\u001B[38;5;241;43m.\u001B[39;49m\u001B[43m_translate_tick_params\u001B[49m\u001B[43m(\u001B[49m\u001B[43mkwargs\u001B[49m\u001B[43m)\u001B[49m\n\u001B[0;32m    927\u001B[0m \u001B[38;5;66;03m# the kwargs are stored in self._major/minor_tick_kw so that any\u001B[39;00m\n\u001B[0;32m    928\u001B[0m \u001B[38;5;66;03m# future new ticks will automatically get them\u001B[39;00m\n\u001B[0;32m    929\u001B[0m \u001B[38;5;28;01mif\u001B[39;00m reset:\n",
      "File \u001B[1;32m~\\.conda\\envs\\Dacon\\lib\\site-packages\\matplotlib\\axis.py:1004\u001B[0m, in \u001B[0;36mAxis._translate_tick_params\u001B[1;34m(kw)\u001B[0m\n\u001B[0;32m   1002\u001B[0m \u001B[38;5;28;01mfor\u001B[39;00m key \u001B[38;5;129;01min\u001B[39;00m kw:\n\u001B[0;32m   1003\u001B[0m     \u001B[38;5;28;01mif\u001B[39;00m key \u001B[38;5;129;01mnot\u001B[39;00m \u001B[38;5;129;01min\u001B[39;00m allowed_keys:\n\u001B[1;32m-> 1004\u001B[0m         \u001B[38;5;28;01mraise\u001B[39;00m \u001B[38;5;167;01mValueError\u001B[39;00m(\n\u001B[0;32m   1005\u001B[0m             \u001B[38;5;124m\"\u001B[39m\u001B[38;5;124mkeyword \u001B[39m\u001B[38;5;132;01m%s\u001B[39;00m\u001B[38;5;124m is not recognized; valid keywords are \u001B[39m\u001B[38;5;132;01m%s\u001B[39;00m\u001B[38;5;124m\"\u001B[39m\n\u001B[0;32m   1006\u001B[0m             \u001B[38;5;241m%\u001B[39m (key, allowed_keys))\n\u001B[0;32m   1007\u001B[0m kwtrans\u001B[38;5;241m.\u001B[39mupdate(kw)\n\u001B[0;32m   1008\u001B[0m \u001B[38;5;28;01mreturn\u001B[39;00m kwtrans\n",
      "\u001B[1;31mValueError\u001B[0m: keyword grid_line_style is not recognized; valid keywords are ['size', 'width', 'color', 'tickdir', 'pad', 'labelsize', 'labelcolor', 'zorder', 'gridOn', 'tick1On', 'tick2On', 'label1On', 'label2On', 'length', 'direction', 'left', 'bottom', 'right', 'top', 'labelleft', 'labelbottom', 'labelright', 'labeltop', 'labelrotation', 'grid_agg_filter', 'grid_alpha', 'grid_animated', 'grid_antialiased', 'grid_clip_box', 'grid_clip_on', 'grid_clip_path', 'grid_color', 'grid_dash_capstyle', 'grid_dash_joinstyle', 'grid_dashes', 'grid_data', 'grid_drawstyle', 'grid_figure', 'grid_fillstyle', 'grid_gapcolor', 'grid_gid', 'grid_in_layout', 'grid_label', 'grid_linestyle', 'grid_linewidth', 'grid_marker', 'grid_markeredgecolor', 'grid_markeredgewidth', 'grid_markerfacecolor', 'grid_markerfacecoloralt', 'grid_markersize', 'grid_markevery', 'grid_mouseover', 'grid_path_effects', 'grid_picker', 'grid_pickradius', 'grid_rasterized', 'grid_sketch_params', 'grid_snap', 'grid_solid_capstyle', 'grid_solid_joinstyle', 'grid_transform', 'grid_url', 'grid_visible', 'grid_xdata', 'grid_ydata', 'grid_zorder', 'grid_aa', 'grid_c', 'grid_ds', 'grid_ls', 'grid_lw', 'grid_mec', 'grid_mew', 'grid_mfc', 'grid_mfcalt', 'grid_ms']"
     ]
    },
    {
     "data": {
      "text/plain": "<Figure size 640x480 with 1 Axes>",
      "image/png": "[encoded data removed]"
     },
     "metadata": {},
     "output_type": "display_data"
    }
   ],
   "source": [
    "plt.rcParams['font.family'] = 'Malgun Gothic'\n",
    "sns.barplot(x = sub['대출등급'].value_counts().sort_index().index, y = sub['대출등급'].value_counts().sort_index(),\n",
    "            palette='Set2')\n",
    "plt.grid(True, alpha=0.6, line_style='--')\n",
    "plt.ylabel('Count')\n",
    "plt.xlabel('대출등급')\n",
    "plt.tight_layout()\n",
    "plt.show()"
   ],
   "metadata": {
    "collapsed": false,
    "ExecuteTime": {
     "end_time": "2024-03-08T04:09:56.773944200Z",
     "start_time": "2024-03-08T04:09:54.531083Z"
    }
   }
  },
  {
   "cell_type": "code",
   "execution_count": 72,
   "outputs": [
    {
     "data": {
      "text/plain": "<Figure size 1000x600 with 1 Axes>",
      "image/png": "[encoded data removed]"
     },
     "metadata": {},
     "output_type": "display_data"
    }
   ],
   "source": [
    "from sklearn.metrics import f1_score, make_scorer\n",
    "\n",
    "# 매크로 F1 점수를 계산하는 함수\n",
    "def macro_f1_score(y_true, y_pred):\n",
    "    return f1_score(y_true, y_pred, average='macro')\n",
    "\n",
    "# Learning Curve를 그리는 함수 (매크로 F1 Score 기준)\n",
    "def plot_learning_curve_f1(estimator, title, X, y, ylim=None, cv=None, n_jobs=-1, train_sizes=np.linspace(.1, 1.0, 5)):\n",
    "    plt.figure(figsize=(10, 6))\n",
    "    plt.title(title)\n",
    "    if ylim is not None:\n",
    "        plt.ylim(*ylim)\n",
    "    plt.xlabel(\"Training examples\")\n",
    "    plt.ylabel(\"Macro F1 Score\")\n",
    "\n",
    "    train_sizes, train_scores, test_scores = learning_curve(\n",
    "        estimator, X, y, cv=cv, n_jobs=n_jobs, train_sizes=train_sizes, scoring=make_scorer(macro_f1_score))\n",
    "\n",
    "    train_scores_mean = np.mean(train_scores, axis=1)\n",
    "    train_scores_std = np.std(train_scores, axis=1)\n",
    "    test_scores_mean = np.mean(test_scores, axis=1)\n",
    "    test_scores_std = np.std(test_scores, axis=1)\n",
    "\n",
    "    plt.grid()\n",
    "\n",
    "    plt.fill_between(train_sizes, train_scores_mean - train_scores_std,\n",
    "                     train_scores_mean + train_scores_std, alpha=0.1,\n",
    "                     color=\"r\")\n",
    "    plt.fill_between(train_sizes, test_scores_mean - test_scores_std,\n",
    "                     test_scores_mean + test_scores_std, alpha=0.1, color=\"g\")\n",
    "\n",
    "    plt.plot(train_sizes, train_scores_mean, 'o-', color=\"r\", label=\"Training score\")\n",
    "    plt.plot(train_sizes, test_scores_mean, 'o-', color=\"g\", label=\"Cross-validation score\")\n",
    "\n",
    "    plt.legend(loc=\"best\")\n",
    "    return plt\n",
    "# 모델 생성\n",
    "model = RandomForestClassifier(n_estimators=190,\n",
    "                               max_depth=15,\n",
    "                               min_samples_split=4,\n",
    "                               max_features=None,\n",
    "                               random_state=1111)\n",
    "# Learning Curve 그리기 (매크로 F1 Score 기준)\n",
    "plot_learning_curve_f1(model, \"Learning Curve (Macro F1 Score)\", X, y, cv=5, n_jobs=-1)\n",
    "\n",
    "plt.show()\n"
   ],
   "metadata": {
    "collapsed": false,
    "ExecuteTime": {
     "end_time": "2024-03-08T04:20:40.418822800Z",
     "start_time": "2024-03-08T04:14:55.003196500Z"
    }
   }
  },
  {
   "cell_type": "code",
   "execution_count": null,
   "outputs": [],
   "source": [],
   "metadata": {
    "collapsed": false
   }
  }
 ]
}
